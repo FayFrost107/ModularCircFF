{
 "cells": [
  {
   "cell_type": "markdown",
   "metadata": {},
   "source": [
    "Creating a dataframe with all parameters fixed except:\n",
    "\n",
    "- R_pat\n",
    "- C_pat\n",
    "- RV:E_act\n",
    "- C_pvn"
   ]
  },
  {
   "cell_type": "code",
   "execution_count": null,
   "metadata": {},
   "outputs": [],
   "source": [
    "from ModularCirc.Models.KorakianitisMixedModel import KorakianitisMixedModel, KorakianitisMixedModel_parameters, TEMPLATE_TIME_SETUP_DICT\n",
    "import numpy as np\n",
    "import json"
   ]
  },
  {
   "cell_type": "code",
   "execution_count": null,
   "metadata": {},
   "outputs": [],
   "source": [
    "from ModularCirc import BatchRunner"
   ]
  },
  {
   "cell_type": "code",
   "execution_count": null,
   "metadata": {},
   "outputs": [],
   "source": [
    "!pwd"
   ]
  },
  {
   "cell_type": "code",
   "execution_count": null,
   "metadata": {},
   "outputs": [],
   "source": [
    "# Load JSON data from a file\n",
    "with open('parameters_02.json', 'r') as file:\n",
    "    po= json.load(file)\n",
    "\n",
    "po"
   ]
  },
  {
   "cell_type": "markdown",
   "metadata": {},
   "source": [
    "Fix all variability i.e. change to [1,1]"
   ]
  },
  {
   "cell_type": "code",
   "execution_count": null,
   "metadata": {},
   "outputs": [],
   "source": [
    "import json\n",
    "\n",
    "# Function to update all lists with variability ranges to [1, 1]\n",
    "def fix_variability(data):\n",
    "    if isinstance(data, dict):\n",
    "        for key, value in data.items():\n",
    "            if isinstance(value, list) and len(value) == 2 and isinstance(value[1], list) and len(value[1]) == 2:\n",
    "                data[key][1] = [1, 1]\n",
    "            else:\n",
    "                fix_variability(value)\n",
    "    elif isinstance(data, list):\n",
    "        for item in data:\n",
    "            fix_variability(item)\n",
    "\n",
    "# Update the JSON data\n",
    "fix_variability(po)\n",
    "po\n",
    "\n"
   ]
  },
  {
   "cell_type": "markdown",
   "metadata": {},
   "source": [
    "Remove all of [1,1]"
   ]
  },
  {
   "cell_type": "code",
   "execution_count": null,
   "metadata": {},
   "outputs": [],
   "source": [
    "import json\n",
    "\n",
    "# Function to recursively remove [1, 1] and collapse lists\n",
    "def remove_zeros(data):\n",
    "    if isinstance(data, dict):  # If data is a dictionary\n",
    "        for key, value in list(data.items()):  # Use list() to allow modifications during iteration\n",
    "            data[key] = remove_zeros(value)\n",
    "    elif isinstance(data, list):  # If data is a list\n",
    "        # If the list has two elements and the second one is [1,1], just return the first element\n",
    "        if len(data) == 2 and data[1] == [1, 1]:\n",
    "            return [data[0]]  # Collapse the list to just the first element\n",
    "        else:\n",
    "            # Otherwise, recursively process each item in the list\n",
    "            return [remove_zeros(item) for item in data]\n",
    "    return data\n",
    "\n",
    "\n",
    "# Remove the [1, 1] lists from the JSON and collapse them\n",
    "cleaned_data = remove_zeros(po)\n",
    "\n",
    "# Print the cleaned data\n",
    "print(json.dumps(cleaned_data, indent=2))\n",
    "\n",
    "# Save the cleaned data to a new JSON file\n",
    "with open('parameters_fixed.json', 'w') as output_file:\n",
    "    json.dump(cleaned_data, output_file, indent=2)"
   ]
  }
 ],
 "metadata": {
  "kernelspec": {
   "display_name": "ModularCirc",
   "language": "python",
   "name": "python3"
  },
  "language_info": {
   "codemirror_mode": {
    "name": "ipython",
    "version": 3
   },
   "file_extension": ".py",
   "mimetype": "text/x-python",
   "name": "python",
   "nbconvert_exporter": "python",
   "pygments_lexer": "ipython3",
   "version": "3.12.7"
  }
 },
 "nbformat": 4,
 "nbformat_minor": 2
}
