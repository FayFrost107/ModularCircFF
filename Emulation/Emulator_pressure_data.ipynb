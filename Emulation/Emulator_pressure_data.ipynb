{
 "cells": [
  {
   "cell_type": "markdown",
   "metadata": {},
   "source": [
    "## Emulation of PCA data\n",
    "\n",
    "This notebook builds an emulator for the data created in the `Create_PCA_datasets`"
   ]
  },
  {
   "cell_type": "code",
   "execution_count": 1,
   "metadata": {},
   "outputs": [],
   "source": [
    "import numpy as np\n",
    "import pandas as pd\n",
    "import os\n",
    "import matplotlib.pyplot as plt"
   ]
  },
  {
   "cell_type": "code",
   "execution_count": 2,
   "metadata": {},
   "outputs": [
    {
     "data": {
      "text/plain": [
       "'/Users/pmzff/Documents/GitHub/ModularCircFF/Emulation'"
      ]
     },
     "execution_count": 2,
     "metadata": {},
     "output_type": "execute_result"
    }
   ],
   "source": [
    "main_path = os.getcwd()\n",
    "main_path\n"
   ]
  },
  {
   "cell_type": "code",
   "execution_count": 3,
   "metadata": {},
   "outputs": [],
   "source": [
    "# Read Data\n",
    "df_x = pd.read_csv(f'{main_path}/Input/input_100.csv')\n",
    "\n",
    "pressure_traces = pd.read_csv(f'{main_path}/Outputs/Out_fixed/pressure_traces_r_pat/all_pressure_traces.csv')\n",
    "\n",
    "# Select varying inputs only\n",
    "#columns_with_multiple_values = df_x.nunique() > 1\n",
    "#filtered_input = df_x.loc[:, columns_with_multiple_values]\n",
    "\n",
    "#  Select only first 5 inputs \n",
    "filtered_input = df_x.iloc[:,:5]\n",
    "\n",
    "dataframes = {}\n",
    "\n",
    "# Read PCA data\n",
    "for i in range(3):\n",
    "    df_name = f'y_PCA{i+1}'  # Create the dataframe name\n",
    "    dataframes[df_name] = pd.read_csv(f'{main_path}/Outputs/Out_fixed/PCA/PC{i+1}.csv')  # Read and store the dataframe\n",
    "   \n",
    "\n",
    "y_PCA1 = dataframes['y_PCA1']\n",
    "y_PCA2 = dataframes['y_PCA2']\n",
    "y_PCA3 = dataframes['y_PCA3']\n",
    "\n",
    "cardiac_output = pressure_traces.iloc[:,100:101] #this df is dataframe of PCA + CO + dt\n",
    "\n",
    "\n",
    "mean_press = pressure_traces.iloc[:,:100].mean(axis=1).to_frame(name='mean_press')\n",
    "max_press = pressure_traces.iloc[:,:100].max(axis=1).to_frame(name='max_press')\n",
    "min_press = pressure_traces.iloc[:,:100].min(axis=1).to_frame(name='min_press')"
   ]
  },
  {
   "cell_type": "code",
   "execution_count": 4,
   "metadata": {},
   "outputs": [],
   "source": [
    "from sklearn.metrics import r2_score\n",
    "from sklearn.model_selection import train_test_split\n",
    "\n",
    "# Example input and output data\n",
    "X = filtered_input.copy()\n",
    "Y = max_press.copy()\n",
    "\n",
    "#for i in list(range(100)):\n",
    "# Split the data into training and testing sets (80% train, 20% test)\n",
    "X_train, X_test, y_train, y_test = train_test_split(X, Y, test_size=0.2, random_state=42)\n",
    "\n",
    "\n",
    "# Convert the resulting splits to numpy arrays if they are not already\n",
    "X_train = X_train.to_numpy()\n",
    "X_test = X_test.to_numpy()\n",
    "y_train = y_train.to_numpy()\n",
    "y_test = y_test.to_numpy()"
   ]
  },
  {
   "cell_type": "code",
   "execution_count": 5,
   "metadata": {},
   "outputs": [
    {
     "name": "stdout",
     "output_type": "stream",
     "text": [
      "Optimization restart 1/20, f = 48.249997129839585\n",
      "Optimization restart 2/20, f = 48.24999710679322\n",
      "Optimization restart 3/20, f = 48.24999716005367\n",
      "Optimization restart 4/20, f = 48.249997111423966\n",
      "Optimization restart 5/20, f = 48.24999710889571\n",
      "Optimization restart 6/20, f = 48.249997110396265\n",
      "Optimization restart 7/20, f = 48.24999711426153\n",
      "Optimization restart 8/20, f = 48.249997149578675\n",
      "Optimization restart 9/20, f = 48.24999713252569\n",
      "Optimization restart 10/20, f = 48.24999734295562\n",
      "Optimization restart 11/20, f = 48.249997104932945\n",
      "Optimization restart 12/20, f = 48.249997114430656\n",
      "Optimization restart 13/20, f = 48.24999710464425\n",
      "Optimization restart 14/20, f = 48.24999710765505\n",
      "Optimization restart 15/20, f = 48.24999710700969\n",
      "Optimization restart 16/20, f = 48.2499971064578\n",
      "Optimization restart 17/20, f = 48.24999711105771\n",
      "Optimization restart 18/20, f = 48.249997119158905\n",
      "Optimization restart 19/20, f = 48.24999710515257\n",
      "Optimization restart 20/20, f = 48.24999710712811\n",
      "  \u001b[1mindex\u001b[0;0m  |  GP_regression.rbf.lengthscale  |  constraints  |  priors\n",
      "  \u001b[1m[0]  \u001b[0;0m  |                    92.37769149  |      +ve      |        \n",
      "  \u001b[1m[1]  \u001b[0;0m  |                     0.68870811  |      +ve      |        \n",
      "  \u001b[1m[2]  \u001b[0;0m  |                     4.94849712  |      +ve      |        \n",
      "  \u001b[1m[3]  \u001b[0;0m  |                     4.16634424  |      +ve      |        \n",
      "  \u001b[1m[4]  \u001b[0;0m  |                     3.92110946  |      +ve      |        \n"
     ]
    }
   ],
   "source": [
    "import GPy\n",
    "\n",
    "# Define the kernel\n",
    "kernel = GPy.kern.RBF(input_dim= X_train.shape[1], ARD=True)\n",
    "\n",
    "# Create the GP model\n",
    "model = GPy.models.GPRegression(X_train, y_train, kernel)\n",
    "\n",
    "# Optimize the model\n",
    "model.optimize_restarts(20, messages=False)\n",
    "\n",
    "# Print model parameters\n",
    "print(model.kern.lengthscale)"
   ]
  },
  {
   "cell_type": "code",
   "execution_count": 6,
   "metadata": {},
   "outputs": [],
   "source": [
    "def R2(df_xtest, df_ytest, model):\n",
    "    pred_mean, pred_var = model.predict(df_xtest) # is it prediction variance or SD?\n",
    "    MSE = np.mean((pred_mean-df_ytest)**2)\n",
    "    R2=1.-MSE/np.var(df_ytest)\n",
    "    return(R2)"
   ]
  },
  {
   "cell_type": "code",
   "execution_count": 7,
   "metadata": {},
   "outputs": [
    {
     "data": {
      "text/plain": [
       "0.9977695905286774"
      ]
     },
     "execution_count": 7,
     "metadata": {},
     "output_type": "execute_result"
    }
   ],
   "source": [
    "R2(X_test, y_test, model)"
   ]
  },
  {
   "cell_type": "markdown",
   "metadata": {},
   "source": [
    "## Global Sensitivity Analysis"
   ]
  },
  {
   "cell_type": "code",
   "execution_count": 8,
   "metadata": {},
   "outputs": [],
   "source": [
    "from SALib.sample import saltelli\n",
    "from SALib.analyze import sobol"
   ]
  },
  {
   "cell_type": "markdown",
   "metadata": {},
   "source": [
    "[SALib](https://salib.readthedocs.io/en/latest/user_guide/basics.html#what-is-salib) is an open source library written in Python for performing sensitivity analyses.\n",
    "\n",
    "A typical sensitivity analysis using SALib follows four steps:\n",
    "\n",
    "1. Determine the model inputs (parameters) and their sample range.\n",
    "\n",
    "2. Run the sample function to generate the model inputs.\n",
    "\n",
    "3. Evaluate the model using the generated inputs, saving the model outputs.\n",
    "\n",
    "4. Run the analyze function on the outputs to compute the sensitivity indices."
   ]
  },
  {
   "cell_type": "markdown",
   "metadata": {},
   "source": [
    "First the emulators are loaded, from where they were saved, as well as the orignal input paramter file with a matching number of samples."
   ]
  },
  {
   "cell_type": "code",
   "execution_count": 9,
   "metadata": {},
   "outputs": [
    {
     "data": {
      "text/html": [
       "<style type=\"text/css\">\n",
       ".pd{\n",
       "    font-family: \"Courier New\", Courier, monospace !important;\n",
       "    width: 100%;\n",
       "    padding: 3px;\n",
       "}\n",
       "</style>\n",
       "\n",
       "<p class=pd>\n",
       "<b>Model</b>: GP regression<br>\n",
       "<b>Objective</b>: 48.24999710464425<br>\n",
       "<b>Number of Parameters</b>: 7<br>\n",
       "<b>Number of Optimization Parameters</b>: 7<br>\n",
       "<b>Updates</b>: True<br>\n",
       "</p>\n",
       "<style type=\"text/css\">\n",
       ".tg  {font-family:\"Courier New\", Courier, monospace !important;padding:2px 3px;word-break:normal;border-collapse:collapse;border-spacing:0;border-color:#DCDCDC;margin:0px auto;width:100%;}\n",
       ".tg td{font-family:\"Courier New\", Courier, monospace !important;font-weight:bold;color:#444;background-color:#F7FDFA;border-style:solid;border-width:1px;overflow:hidden;word-break:normal;border-color:#DCDCDC;}\n",
       ".tg th{font-family:\"Courier New\", Courier, monospace !important;font-weight:normal;color:#fff;background-color:#26ADE4;border-style:solid;border-width:1px;overflow:hidden;word-break:normal;border-color:#DCDCDC;}\n",
       ".tg .tg-left{font-family:\"Courier New\", Courier, monospace !important;font-weight:normal;text-align:left;}\n",
       ".tg .tg-center{font-family:\"Courier New\", Courier, monospace !important;font-weight:normal;text-align:center;}\n",
       ".tg .tg-right{font-family:\"Courier New\", Courier, monospace !important;font-weight:normal;text-align:right;}\n",
       "</style>\n",
       "<table class=\"tg\"><tr><th><b>  GP_regression.         </b></th><th><b>               value</b></th><th><b>constraints</b></th><th><b>priors</b></th></tr>\n",
       "<tr><td class=tg-left>  rbf.variance           </td><td class=tg-right>   477.8407175409544</td><td class=tg-center>    +ve    </td><td class=tg-center>      </td></tr>\n",
       "<tr><td class=tg-left>  rbf.lengthscale        </td><td class=tg-right>                (5,)</td><td class=tg-center>    +ve    </td><td class=tg-center>      </td></tr>\n",
       "<tr><td class=tg-left>  Gaussian_noise.variance</td><td class=tg-right>0.019378009317044996</td><td class=tg-center>    +ve    </td><td class=tg-center>      </td></tr>\n",
       "</table>"
      ],
      "text/plain": [
       "<GPy.models.gp_regression.GPRegression at 0x17772ca70>"
      ]
     },
     "execution_count": 9,
     "metadata": {},
     "output_type": "execute_result"
    }
   ],
   "source": [
    "model  ### save the model so that it can be read in. However you need to alter the input to be just 5 parameters? "
   ]
  },
  {
   "cell_type": "code",
   "execution_count": 10,
   "metadata": {},
   "outputs": [
    {
     "data": {
      "text/plain": [
       "'/Users/pmzff/Documents/GitHub/ModularCircFF/Emulation'"
      ]
     },
     "execution_count": 10,
     "metadata": {},
     "output_type": "execute_result"
    }
   ],
   "source": [
    "main_path"
   ]
  },
  {
   "cell_type": "code",
   "execution_count": 11,
   "metadata": {},
   "outputs": [],
   "source": [
    "n_runs = 100\n",
    "input_X = f\"{main_path}/input/input_{n_runs}.csv\"\n",
    "input_data = pd.read_csv(input_X)"
   ]
  },
  {
   "cell_type": "code",
   "execution_count": 12,
   "metadata": {},
   "outputs": [
    {
     "data": {
      "text/html": [
       "<div>\n",
       "<style scoped>\n",
       "    .dataframe tbody tr th:only-of-type {\n",
       "        vertical-align: middle;\n",
       "    }\n",
       "\n",
       "    .dataframe tbody tr th {\n",
       "        vertical-align: top;\n",
       "    }\n",
       "\n",
       "    .dataframe thead th {\n",
       "        text-align: right;\n",
       "    }\n",
       "</style>\n",
       "<table border=\"1\" class=\"dataframe\">\n",
       "  <thead>\n",
       "    <tr style=\"text-align: right;\">\n",
       "      <th></th>\n",
       "      <th># svn.c</th>\n",
       "      <th>pat.r</th>\n",
       "      <th>pat.c</th>\n",
       "      <th>rv.E_act</th>\n",
       "      <th>T</th>\n",
       "      <th>sas.r</th>\n",
       "      <th>sas.c</th>\n",
       "      <th>sas.l</th>\n",
       "      <th>sas.v_ref</th>\n",
       "      <th>sat.r</th>\n",
       "      <th>...</th>\n",
       "      <th>la.tpww</th>\n",
       "      <th>ra.tpww</th>\n",
       "      <th>lv.td</th>\n",
       "      <th>rv.td</th>\n",
       "      <th>sas.v</th>\n",
       "      <th>sat.v</th>\n",
       "      <th>svn.v</th>\n",
       "      <th>pas.v</th>\n",
       "      <th>pat.v</th>\n",
       "      <th>pvn.v</th>\n",
       "    </tr>\n",
       "  </thead>\n",
       "  <tbody>\n",
       "    <tr>\n",
       "      <th>0</th>\n",
       "      <td>27.687002</td>\n",
       "      <td>0.443723</td>\n",
       "      <td>3.278327</td>\n",
       "      <td>1.623082</td>\n",
       "      <td>0.478369</td>\n",
       "      <td>0.003</td>\n",
       "      <td>0.08</td>\n",
       "      <td>0.000062</td>\n",
       "      <td>0.0</td>\n",
       "      <td>1.07</td>\n",
       "      <td>...</td>\n",
       "      <td>0.043053</td>\n",
       "      <td>0.043053</td>\n",
       "      <td>0.215266</td>\n",
       "      <td>0.215266</td>\n",
       "      <td>0.825124</td>\n",
       "      <td>16.502477</td>\n",
       "      <td>285.565067</td>\n",
       "      <td>1.856529</td>\n",
       "      <td>33.812820</td>\n",
       "      <td>211.437983</td>\n",
       "    </tr>\n",
       "    <tr>\n",
       "      <th>1</th>\n",
       "      <td>10.935100</td>\n",
       "      <td>0.243385</td>\n",
       "      <td>4.286711</td>\n",
       "      <td>2.717826</td>\n",
       "      <td>0.805784</td>\n",
       "      <td>0.003</td>\n",
       "      <td>0.08</td>\n",
       "      <td>0.000062</td>\n",
       "      <td>0.0</td>\n",
       "      <td>1.07</td>\n",
       "      <td>...</td>\n",
       "      <td>0.072521</td>\n",
       "      <td>0.072521</td>\n",
       "      <td>0.362603</td>\n",
       "      <td>0.362603</td>\n",
       "      <td>1.170779</td>\n",
       "      <td>23.415582</td>\n",
       "      <td>160.032337</td>\n",
       "      <td>2.634253</td>\n",
       "      <td>62.734898</td>\n",
       "      <td>300.012150</td>\n",
       "    </tr>\n",
       "    <tr>\n",
       "      <th>2</th>\n",
       "      <td>18.671167</td>\n",
       "      <td>0.356841</td>\n",
       "      <td>2.549143</td>\n",
       "      <td>0.822205</td>\n",
       "      <td>0.950488</td>\n",
       "      <td>0.003</td>\n",
       "      <td>0.08</td>\n",
       "      <td>0.000062</td>\n",
       "      <td>0.0</td>\n",
       "      <td>1.07</td>\n",
       "      <td>...</td>\n",
       "      <td>0.085544</td>\n",
       "      <td>0.085544</td>\n",
       "      <td>0.427720</td>\n",
       "      <td>0.427720</td>\n",
       "      <td>1.009630</td>\n",
       "      <td>20.192605</td>\n",
       "      <td>235.637189</td>\n",
       "      <td>2.271668</td>\n",
       "      <td>32.171151</td>\n",
       "      <td>258.717757</td>\n",
       "    </tr>\n",
       "    <tr>\n",
       "      <th>3</th>\n",
       "      <td>24.992088</td>\n",
       "      <td>0.155291</td>\n",
       "      <td>5.101243</td>\n",
       "      <td>3.333386</td>\n",
       "      <td>0.614289</td>\n",
       "      <td>0.003</td>\n",
       "      <td>0.08</td>\n",
       "      <td>0.000062</td>\n",
       "      <td>0.0</td>\n",
       "      <td>1.07</td>\n",
       "      <td>...</td>\n",
       "      <td>0.055286</td>\n",
       "      <td>0.055286</td>\n",
       "      <td>0.276430</td>\n",
       "      <td>0.276430</td>\n",
       "      <td>0.838841</td>\n",
       "      <td>16.776818</td>\n",
       "      <td>262.054823</td>\n",
       "      <td>1.887392</td>\n",
       "      <td>53.489138</td>\n",
       "      <td>214.952987</td>\n",
       "    </tr>\n",
       "    <tr>\n",
       "      <th>4</th>\n",
       "      <td>22.700741</td>\n",
       "      <td>0.326891</td>\n",
       "      <td>3.862239</td>\n",
       "      <td>2.779415</td>\n",
       "      <td>0.551895</td>\n",
       "      <td>0.003</td>\n",
       "      <td>0.08</td>\n",
       "      <td>0.000062</td>\n",
       "      <td>0.0</td>\n",
       "      <td>1.07</td>\n",
       "      <td>...</td>\n",
       "      <td>0.049671</td>\n",
       "      <td>0.049671</td>\n",
       "      <td>0.248353</td>\n",
       "      <td>0.248353</td>\n",
       "      <td>0.899373</td>\n",
       "      <td>17.987457</td>\n",
       "      <td>255.205378</td>\n",
       "      <td>2.023589</td>\n",
       "      <td>43.419907</td>\n",
       "      <td>230.464296</td>\n",
       "    </tr>\n",
       "    <tr>\n",
       "      <th>...</th>\n",
       "      <td>...</td>\n",
       "      <td>...</td>\n",
       "      <td>...</td>\n",
       "      <td>...</td>\n",
       "      <td>...</td>\n",
       "      <td>...</td>\n",
       "      <td>...</td>\n",
       "      <td>...</td>\n",
       "      <td>...</td>\n",
       "      <td>...</td>\n",
       "      <td>...</td>\n",
       "      <td>...</td>\n",
       "      <td>...</td>\n",
       "      <td>...</td>\n",
       "      <td>...</td>\n",
       "      <td>...</td>\n",
       "      <td>...</td>\n",
       "      <td>...</td>\n",
       "      <td>...</td>\n",
       "      <td>...</td>\n",
       "      <td>...</td>\n",
       "    </tr>\n",
       "    <tr>\n",
       "      <th>95</th>\n",
       "      <td>27.406567</td>\n",
       "      <td>0.196824</td>\n",
       "      <td>3.333852</td>\n",
       "      <td>1.704984</td>\n",
       "      <td>0.646159</td>\n",
       "      <td>0.003</td>\n",
       "      <td>0.08</td>\n",
       "      <td>0.000062</td>\n",
       "      <td>0.0</td>\n",
       "      <td>1.07</td>\n",
       "      <td>...</td>\n",
       "      <td>0.058154</td>\n",
       "      <td>0.058154</td>\n",
       "      <td>0.290771</td>\n",
       "      <td>0.290771</td>\n",
       "      <td>0.828619</td>\n",
       "      <td>16.572374</td>\n",
       "      <td>283.869921</td>\n",
       "      <td>1.864392</td>\n",
       "      <td>34.531155</td>\n",
       "      <td>212.333539</td>\n",
       "    </tr>\n",
       "    <tr>\n",
       "      <th>96</th>\n",
       "      <td>26.960391</td>\n",
       "      <td>0.395660</td>\n",
       "      <td>2.043640</td>\n",
       "      <td>0.645535</td>\n",
       "      <td>0.810764</td>\n",
       "      <td>0.003</td>\n",
       "      <td>0.08</td>\n",
       "      <td>0.000062</td>\n",
       "      <td>0.0</td>\n",
       "      <td>1.07</td>\n",
       "      <td>...</td>\n",
       "      <td>0.072969</td>\n",
       "      <td>0.072969</td>\n",
       "      <td>0.364844</td>\n",
       "      <td>0.364844</td>\n",
       "      <td>0.856631</td>\n",
       "      <td>17.132612</td>\n",
       "      <td>288.688691</td>\n",
       "      <td>1.927419</td>\n",
       "      <td>21.883060</td>\n",
       "      <td>219.511588</td>\n",
       "    </tr>\n",
       "    <tr>\n",
       "      <th>97</th>\n",
       "      <td>10.379113</td>\n",
       "      <td>0.271468</td>\n",
       "      <td>5.547834</td>\n",
       "      <td>3.156299</td>\n",
       "      <td>0.473453</td>\n",
       "      <td>0.003</td>\n",
       "      <td>0.08</td>\n",
       "      <td>0.000062</td>\n",
       "      <td>0.0</td>\n",
       "      <td>1.07</td>\n",
       "      <td>...</td>\n",
       "      <td>0.042611</td>\n",
       "      <td>0.042611</td>\n",
       "      <td>0.213054</td>\n",
       "      <td>0.213054</td>\n",
       "      <td>1.149217</td>\n",
       "      <td>22.984334</td>\n",
       "      <td>149.098127</td>\n",
       "      <td>2.585738</td>\n",
       "      <td>79.695799</td>\n",
       "      <td>294.486785</td>\n",
       "    </tr>\n",
       "    <tr>\n",
       "      <th>98</th>\n",
       "      <td>17.956148</td>\n",
       "      <td>0.327547</td>\n",
       "      <td>3.782205</td>\n",
       "      <td>1.440794</td>\n",
       "      <td>0.618088</td>\n",
       "      <td>0.003</td>\n",
       "      <td>0.08</td>\n",
       "      <td>0.000062</td>\n",
       "      <td>0.0</td>\n",
       "      <td>1.07</td>\n",
       "      <td>...</td>\n",
       "      <td>0.055628</td>\n",
       "      <td>0.055628</td>\n",
       "      <td>0.278140</td>\n",
       "      <td>0.278140</td>\n",
       "      <td>0.997770</td>\n",
       "      <td>19.955394</td>\n",
       "      <td>223.951256</td>\n",
       "      <td>2.244982</td>\n",
       "      <td>47.172116</td>\n",
       "      <td>255.678483</td>\n",
       "    </tr>\n",
       "    <tr>\n",
       "      <th>99</th>\n",
       "      <td>24.427048</td>\n",
       "      <td>0.204566</td>\n",
       "      <td>3.842672</td>\n",
       "      <td>2.535121</td>\n",
       "      <td>0.946616</td>\n",
       "      <td>0.003</td>\n",
       "      <td>0.08</td>\n",
       "      <td>0.000062</td>\n",
       "      <td>0.0</td>\n",
       "      <td>1.07</td>\n",
       "      <td>...</td>\n",
       "      <td>0.085195</td>\n",
       "      <td>0.085195</td>\n",
       "      <td>0.425977</td>\n",
       "      <td>0.425977</td>\n",
       "      <td>0.869055</td>\n",
       "      <td>17.381095</td>\n",
       "      <td>265.355536</td>\n",
       "      <td>1.955373</td>\n",
       "      <td>41.743656</td>\n",
       "      <td>222.695286</td>\n",
       "    </tr>\n",
       "  </tbody>\n",
       "</table>\n",
       "<p>100 rows × 69 columns</p>\n",
       "</div>"
      ],
      "text/plain": [
       "      # svn.c     pat.r     pat.c  rv.E_act         T  sas.r  sas.c     sas.l  \\\n",
       "0   27.687002  0.443723  3.278327  1.623082  0.478369  0.003   0.08  0.000062   \n",
       "1   10.935100  0.243385  4.286711  2.717826  0.805784  0.003   0.08  0.000062   \n",
       "2   18.671167  0.356841  2.549143  0.822205  0.950488  0.003   0.08  0.000062   \n",
       "3   24.992088  0.155291  5.101243  3.333386  0.614289  0.003   0.08  0.000062   \n",
       "4   22.700741  0.326891  3.862239  2.779415  0.551895  0.003   0.08  0.000062   \n",
       "..        ...       ...       ...       ...       ...    ...    ...       ...   \n",
       "95  27.406567  0.196824  3.333852  1.704984  0.646159  0.003   0.08  0.000062   \n",
       "96  26.960391  0.395660  2.043640  0.645535  0.810764  0.003   0.08  0.000062   \n",
       "97  10.379113  0.271468  5.547834  3.156299  0.473453  0.003   0.08  0.000062   \n",
       "98  17.956148  0.327547  3.782205  1.440794  0.618088  0.003   0.08  0.000062   \n",
       "99  24.427048  0.204566  3.842672  2.535121  0.946616  0.003   0.08  0.000062   \n",
       "\n",
       "    sas.v_ref  sat.r  ...   la.tpww   ra.tpww     lv.td     rv.td     sas.v  \\\n",
       "0         0.0   1.07  ...  0.043053  0.043053  0.215266  0.215266  0.825124   \n",
       "1         0.0   1.07  ...  0.072521  0.072521  0.362603  0.362603  1.170779   \n",
       "2         0.0   1.07  ...  0.085544  0.085544  0.427720  0.427720  1.009630   \n",
       "3         0.0   1.07  ...  0.055286  0.055286  0.276430  0.276430  0.838841   \n",
       "4         0.0   1.07  ...  0.049671  0.049671  0.248353  0.248353  0.899373   \n",
       "..        ...    ...  ...       ...       ...       ...       ...       ...   \n",
       "95        0.0   1.07  ...  0.058154  0.058154  0.290771  0.290771  0.828619   \n",
       "96        0.0   1.07  ...  0.072969  0.072969  0.364844  0.364844  0.856631   \n",
       "97        0.0   1.07  ...  0.042611  0.042611  0.213054  0.213054  1.149217   \n",
       "98        0.0   1.07  ...  0.055628  0.055628  0.278140  0.278140  0.997770   \n",
       "99        0.0   1.07  ...  0.085195  0.085195  0.425977  0.425977  0.869055   \n",
       "\n",
       "        sat.v       svn.v     pas.v      pat.v       pvn.v  \n",
       "0   16.502477  285.565067  1.856529  33.812820  211.437983  \n",
       "1   23.415582  160.032337  2.634253  62.734898  300.012150  \n",
       "2   20.192605  235.637189  2.271668  32.171151  258.717757  \n",
       "3   16.776818  262.054823  1.887392  53.489138  214.952987  \n",
       "4   17.987457  255.205378  2.023589  43.419907  230.464296  \n",
       "..        ...         ...       ...        ...         ...  \n",
       "95  16.572374  283.869921  1.864392  34.531155  212.333539  \n",
       "96  17.132612  288.688691  1.927419  21.883060  219.511588  \n",
       "97  22.984334  149.098127  2.585738  79.695799  294.486785  \n",
       "98  19.955394  223.951256  2.244982  47.172116  255.678483  \n",
       "99  17.381095  265.355536  1.955373  41.743656  222.695286  \n",
       "\n",
       "[100 rows x 69 columns]"
      ]
     },
     "execution_count": 12,
     "metadata": {},
     "output_type": "execute_result"
    }
   ],
   "source": [
    "input_data"
   ]
  },
  {
   "cell_type": "markdown",
   "metadata": {},
   "source": [
    "Removing values that are constants or based on constants."
   ]
  },
  {
   "cell_type": "code",
   "execution_count": 13,
   "metadata": {},
   "outputs": [],
   "source": [
    "relevant_columns = []\n",
    "for col in input_data.columns:\n",
    "    relevant_columns.append(col)\n",
    "    if col == 'T': break"
   ]
  },
  {
   "cell_type": "code",
   "execution_count": 14,
   "metadata": {},
   "outputs": [
    {
     "data": {
      "text/plain": [
       "['# svn.c', 'pat.r', 'pat.c', 'rv.E_act', 'T']"
      ]
     },
     "execution_count": 14,
     "metadata": {},
     "output_type": "execute_result"
    }
   ],
   "source": [
    "relevant_columns"
   ]
  },
  {
   "cell_type": "markdown",
   "metadata": {},
   "source": [
    "Define a `dict` defining the number of inputs, the names of the inputs, and the bounds on each input:"
   ]
  },
  {
   "cell_type": "code",
   "execution_count": 15,
   "metadata": {},
   "outputs": [],
   "source": [
    "problem = {\n",
    "    'num_vars': len(relevant_columns),\n",
    "    'names': relevant_columns,\n",
    "    'bounds' : input_data[relevant_columns].describe().loc[['min', 'max']].T.values\n",
    "}"
   ]
  },
  {
   "cell_type": "code",
   "execution_count": 16,
   "metadata": {},
   "outputs": [
    {
     "data": {
      "text/plain": [
       "{'num_vars': 5,\n",
       " 'names': ['# svn.c', 'pat.r', 'pat.c', 'rv.E_act', 'T'],\n",
       " 'bounds': array([[10.37911297, 30.63621773],\n",
       "        [ 0.15529119,  0.46488501],\n",
       "        [ 1.94734215,  5.68715982],\n",
       "        [ 0.5835767 ,  3.43637252],\n",
       "        [ 0.40205299,  0.95623541]])}"
      ]
     },
     "execution_count": 16,
     "metadata": {},
     "output_type": "execute_result"
    }
   ],
   "source": [
    "problem"
   ]
  },
  {
   "cell_type": "markdown",
   "metadata": {},
   "source": [
    "As we are performing a Sobol sensitivity analysis, we should generate samples using the Saltelli sampler."
   ]
  },
  {
   "cell_type": "code",
   "execution_count": 17,
   "metadata": {},
   "outputs": [
    {
     "data": {
      "text/plain": [
       "(12288, 5)"
      ]
     },
     "execution_count": 17,
     "metadata": {},
     "output_type": "execute_result"
    }
   ],
   "source": [
    "param_values = saltelli.sample(problem, 1024, calc_second_order=True)\n",
    "param_values.shape\n"
   ]
  },
  {
   "cell_type": "markdown",
   "metadata": {},
   "source": [
    "Calculate the output of the emulator from saltelli samples. "
   ]
  },
  {
   "cell_type": "code",
   "execution_count": 18,
   "metadata": {},
   "outputs": [
    {
     "data": {
      "text/plain": [
       "(12288,)"
      ]
     },
     "execution_count": 18,
     "metadata": {},
     "output_type": "execute_result"
    }
   ],
   "source": [
    "Y = model.predict(param_values)\n",
    "Output_Y = np.array(Y)[0]\n",
    "Output_Y_reshape = Output_Y.reshape(12288,)\n",
    "Output_Y_reshape.shape\n"
   ]
  },
  {
   "cell_type": "code",
   "execution_count": 19,
   "metadata": {},
   "outputs": [
    {
     "name": "stderr",
     "output_type": "stream",
     "text": [
      " /opt/anaconda3/envs/ModularCirc/lib/python3.12/site-packages/SALib/util/__init__.py:274: FutureWarning:unique with argument that is not not a Series, Index, ExtensionArray, or np.ndarray is deprecated and will raise in a future version.\n"
     ]
    }
   ],
   "source": [
    "sobol_indices = sobol.analyze(problem, Output_Y_reshape, calc_second_order=True)"
   ]
  },
  {
   "cell_type": "code",
   "execution_count": 20,
   "metadata": {},
   "outputs": [
    {
     "data": {
      "text/plain": [
       "array([0.05041854, 0.73922094, 0.20300012, 0.01413624, 0.00414055])"
      ]
     },
     "execution_count": 20,
     "metadata": {},
     "output_type": "execute_result"
    }
   ],
   "source": [
    "sobol_indices['ST']"
   ]
  },
  {
   "cell_type": "code",
   "execution_count": 21,
   "metadata": {},
   "outputs": [
    {
     "data": {
      "image/png": "[encoded data removed]",
      "text/plain": [
       "<Figure size 800x800 with 1 Axes>"
      ]
     },
     "metadata": {},
     "output_type": "display_data"
    }
   ],
   "source": [
    "ST = pd.DataFrame(sobol_indices['ST'], index=relevant_columns, columns=['ST'])\n",
    "ST.sort_values('ST', inplace=True, ascending=False)\n",
    "\n",
    "labels = ST.index\n",
    "sizes = ST['ST']\n",
    "\n",
    "plt.figure(figsize=(8, 8))\n",
    "plt.pie(sizes, labels=labels, autopct='%1.1f%%', startangle=180)\n",
    "plt.title('Sensitivity Analysis Results')\n",
    "plt.show()"
   ]
  },
  {
   "cell_type": "code",
   "execution_count": null,
   "metadata": {},
   "outputs": [],
   "source": []
  }
 ],
 "metadata": {
  "kernelspec": {
   "display_name": "ModularCirc",
   "language": "python",
   "name": "python3"
  },
  "language_info": {
   "codemirror_mode": {
    "name": "ipython",
    "version": 3
   },
   "file_extension": ".py",
   "mimetype": "text/x-python",
   "name": "python",
   "nbconvert_exporter": "python",
   "pygments_lexer": "ipython3",
   "version": "3.12.7"
  }
 },
 "nbformat": 4,
 "nbformat_minor": 2
}
