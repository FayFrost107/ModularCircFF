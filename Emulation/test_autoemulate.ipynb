{
 "cells": [
  {
   "cell_type": "code",
   "execution_count": 5,
   "metadata": {},
   "outputs": [],
   "source": [
    "import os \n",
    "import pickle as pkl\n",
    "import pandas as pd\n",
    "import numpy  as np\n",
    "\n",
    "import matplotlib.pyplot as plt\n",
    "\n",
    "from sklearn.metrics import r2_score\n",
    "from autoemulate.compare import AutoEmulate\n",
    "\n",
    "from sklearn.model_selection import KFold\n",
    "\n",
    "from sklearn.preprocessing import RobustScaler\n",
    "\n",
    "def main():\n",
    "    \n",
    "\n",
    "    path_X  = '/Users/pmzff/Documents/GitHub/ModularCircFF/ExploreModularCirc/Input/input_2000.csv'\n",
    "    path_y = '/Users/pmzff/Documents/GitHub/ModularCircFF/ExploreModularCirc/Outputs/Output_2000/PCA/PC3.csv'\n",
    "    \n",
    "    N_cases = 2000\n",
    "    X_df  = pd.read_csv(path_X)\n",
    "    y_df  = pd.read_csv(path_y)\n",
    "    #  Select relevant inputs only\n",
    "    relevant_columns = []\n",
    "    for col in X_df.columns:\n",
    "        relevant_columns.append(col)\n",
    "        if col == 'T': break\n",
    "\n",
    "    # Select only first 5 inputs \n",
    "    filtered_input = X_df[relevant_columns]\n",
    "\n",
    "    best_emulator_list = []\n",
    "\n",
    "           \n",
    "    for col in y_df.columns: \n",
    "        if col == 'dt': continue   \n",
    "        print('\\n'*2)\n",
    "        print(f'Col {col}\\n')\n",
    "        ae = AutoEmulate()\n",
    "        model_subset = [\n",
    "            \"NeuralNetSk\", \n",
    "            # \"SecondOrderPolynomial\", \n",
    "            # \"SupportVectorMachines\", \n",
    "            # \"GradientBoosting\", \n",
    "            # \"RandomForest\"\n",
    "        ]\n",
    "        ae.setup(filtered_input .values, \n",
    "                y_df[col].values, \n",
    "                models=model_subset, \n",
    "                n_jobs=5, \n",
    "                param_search=True,\n",
    "                scale=RobustScaler(),\n",
    "                param_search_type='random',  # bayes, random\n",
    "                param_search_iters=20,\n",
    "                cross_validator=KFold(n_splits=5, shuffle=True),\n",
    "                log_to_file=True\n",
    "                )\n",
    "        best_model = ae.compare() \n",
    "        \n",
    "        print(ae.summarise_cv())\n",
    "        \n",
    "        best_emulator = ae.refit(best_model) \n",
    "        \n",
    "        print(best_emulator.named_steps['model'].get_params())\n",
    "    \n",
    "        os.system(f'mkdir -p Auto_Emulators')\n",
    "        ae.save(best_emulator, f'Auto_Emulators/emulator_{N_cases}_{col}.pkl')    \n",
    "    return \n",
    "\n"
   ]
  },
  {
   "cell_type": "code",
   "execution_count": 6,
   "metadata": {},
   "outputs": [
    {
     "name": "stdout",
     "output_type": "stream",
     "text": [
      "\n",
      "\n",
      "\n",
      "Col PC3\n",
      "\n"
     ]
    },
    {
     "data": {
      "text/html": [
       "<p>AutoEmulate is set up with the following settings:</p>"
      ],
      "text/plain": [
       "<IPython.core.display.HTML object>"
      ]
     },
     "metadata": {},
     "output_type": "display_data"
    },
    {
     "data": {
      "text/html": [
       "<table border=\"1\" class=\"dataframe\">\n",
       "  <thead>\n",
       "    <tr style=\"text-align: right;\">\n",
       "      <th></th>\n",
       "      <th>Values</th>\n",
       "    </tr>\n",
       "  </thead>\n",
       "  <tbody>\n",
       "    <tr>\n",
       "      <th>Simulation input shape (X)</th>\n",
       "      <td>(2000, 22)</td>\n",
       "    </tr>\n",
       "    <tr>\n",
       "      <th>Simulation output shape (y)</th>\n",
       "      <td>(2000,)</td>\n",
       "    </tr>\n",
       "    <tr>\n",
       "      <th>Proportion of data for testing (test_set_size)</th>\n",
       "      <td>0.2</td>\n",
       "    </tr>\n",
       "    <tr>\n",
       "      <th>Scale input data (scale)</th>\n",
       "      <td>RobustScaler()</td>\n",
       "    </tr>\n",
       "    <tr>\n",
       "      <th>Scaler (scaler)</th>\n",
       "      <td>StandardScaler</td>\n",
       "    </tr>\n",
       "    <tr>\n",
       "      <th>Do hyperparameter search (param_search)</th>\n",
       "      <td>True</td>\n",
       "    </tr>\n",
       "    <tr>\n",
       "      <th>Type of hyperparameter search (search_type)</th>\n",
       "      <td>random</td>\n",
       "    </tr>\n",
       "    <tr>\n",
       "      <th>Number of sampled parameter settings (param_search_iters)</th>\n",
       "      <td>20</td>\n",
       "    </tr>\n",
       "    <tr>\n",
       "      <th>Reduce dimensionality (reduce_dim)</th>\n",
       "      <td>False</td>\n",
       "    </tr>\n",
       "    <tr>\n",
       "      <th>Cross validator (cross_validator)</th>\n",
       "      <td>KFold</td>\n",
       "    </tr>\n",
       "    <tr>\n",
       "      <th>Parallel jobs (n_jobs)</th>\n",
       "      <td>5</td>\n",
       "    </tr>\n",
       "  </tbody>\n",
       "</table>"
      ],
      "text/plain": [
       "<IPython.core.display.HTML object>"
      ]
     },
     "metadata": {},
     "output_type": "display_data"
    },
    {
     "data": {
      "application/vnd.jupyter.widget-view+json": {
       "model_id": "9c08fcc38ca34c919a5b0efde54f3cab",
       "version_major": 2,
       "version_minor": 0
      },
      "text/plain": [
       "Initializing:   0%|          | 0/1 [00:00<?, ?it/s]"
      ]
     },
     "metadata": {},
     "output_type": "display_data"
    },
    {
     "name": "stdout",
     "output_type": "stream",
     "text": [
      "         model short      rmse        r2\n",
      "0  NeuralNetSk   nns  0.363291  0.882352\n",
      "{'activation': 'relu', 'alpha': 7.820240077460717e-05, 'hidden_layer_sizes': (50,), 'learning_rate': 'constant', 'learning_rate_init': 0.0003229772627793101, 'max_iter': 200, 'random_state': None, 'solver': 'lbfgs', 'tol': 0.0001}\n"
     ]
    }
   ],
   "source": [
    "main()"
   ]
  },
  {
   "cell_type": "code",
   "execution_count": 7,
   "metadata": {},
   "outputs": [
    {
     "ename": "UnpicklingError",
     "evalue": "invalid load key, '\\x0e'.",
     "output_type": "error",
     "traceback": [
      "\u001b[0;31m---------------------------------------------------------------------------\u001b[0m",
      "\u001b[0;31mUnpicklingError\u001b[0m                           Traceback (most recent call last)",
      "Cell \u001b[0;32mIn[7], line 8\u001b[0m\n\u001b[1;32m      6\u001b[0m \u001b[38;5;66;03m# Open and read the pickle file\u001b[39;00m\n\u001b[1;32m      7\u001b[0m \u001b[38;5;28;01mwith\u001b[39;00m \u001b[38;5;28mopen\u001b[39m(file_path, \u001b[38;5;124m'\u001b[39m\u001b[38;5;124mrb\u001b[39m\u001b[38;5;124m'\u001b[39m) \u001b[38;5;28;01mas\u001b[39;00m file:\n\u001b[0;32m----> 8\u001b[0m     data \u001b[38;5;241m=\u001b[39m \u001b[43mpickle\u001b[49m\u001b[38;5;241;43m.\u001b[39;49m\u001b[43mload\u001b[49m\u001b[43m(\u001b[49m\u001b[43mfile\u001b[49m\u001b[43m)\u001b[49m\n",
      "\u001b[0;31mUnpicklingError\u001b[0m: invalid load key, '\\x0e'."
     ]
    }
   ],
   "source": [
    "import pickle\n",
    "\n",
    "# File path\n",
    "file_path = \"/Users/pmzff/Documents/GitHub/ModularCircFF/Emulation/Auto_Emulators/emulator_2000_PC2.pkl\"\n",
    "\n",
    "# Open and read the pickle file\n",
    "with open(file_path, 'rb') as file:\n",
    "    data = pickle.load(file)\n",
    "\n"
   ]
  }
 ],
 "metadata": {
  "kernelspec": {
   "display_name": "autoemulate_venv",
   "language": "python",
   "name": "python3"
  },
  "language_info": {
   "codemirror_mode": {
    "name": "ipython",
    "version": 3
   },
   "file_extension": ".py",
   "mimetype": "text/x-python",
   "name": "python",
   "nbconvert_exporter": "python",
   "pygments_lexer": "ipython3",
   "version": "3.10.16"
  }
 },
 "nbformat": 4,
 "nbformat_minor": 2
}
