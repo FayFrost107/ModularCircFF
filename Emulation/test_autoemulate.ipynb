{
 "cells": [
  {
   "cell_type": "code",
   "execution_count": 9,
   "metadata": {},
   "outputs": [],
   "source": [
    "import os \n",
    "import pickle as pkl\n",
    "import pandas as pd\n",
    "import numpy  as np\n",
    "\n",
    "import matplotlib.pyplot as plt\n",
    "\n",
    "from sklearn.metrics import r2_score\n",
    "from autoemulate.compare import AutoEmulate\n",
    "\n",
    "from sklearn.model_selection import KFold\n",
    "\n",
    "from sklearn.preprocessing import RobustScaler\n",
    "\n",
    "def main():\n",
    "    \n",
    "\n",
    "    path_X  = '/Users/pmzff/Documents/GitHub/ModularCircFF/Emulation/Input/input_100.csv'\n",
    "    path_y = '/Users/pmzff/Documents/GitHub/ModularCircFF/Emulation/Outputs/Out_fixed/PCA/PC1.csv'\n",
    "    \n",
    " \n",
    "    X_df  = pd.read_csv(path_X)\n",
    "    y_df  = pd.read_csv(path_y)\n",
    "    #  Select relevant inputs only\n",
    "    relevant_columns = []\n",
    "    for col in X_df.columns:\n",
    "        relevant_columns.append(col)\n",
    "        if col == 'T': break\n",
    "\n",
    "    # Select only first 5 inputs \n",
    "    filtered_input = X_df[relevant_columns]\n",
    "\n",
    "    filtered_input\n",
    "\n",
    "   \n",
    "\n",
    "        \n",
    "    for col in y_df.columns: \n",
    "        if col == 'dt': continue   \n",
    "        print('\\n'*2)\n",
    "        print(f'Col {col}\\n')\n",
    "        ae = AutoEmulate()\n",
    "        model_subset = [\n",
    "            \"NeuralNetSk\", \n",
    "            \"SecondOrderPolynomial\", \n",
    "            # \"SupportVectorMachines\", \n",
    "            # \"GradientBoosting\", \n",
    "            # \"RandomForest\"\n",
    "        ]\n",
    "        ae.setup(filtered_input .values, \n",
    "                y_df[col].values, \n",
    "                models=model_subset, \n",
    "                n_jobs=1, \n",
    "                param_search=True,\n",
    "                scale=RobustScaler(),\n",
    "                param_search_type='random',  # bayes, random\n",
    "                param_search_iters=20,\n",
    "                cross_validator=KFold(n_splits=5, shuffle=True),\n",
    "                log_to_file=True\n",
    "                )\n",
    "        best_model = ae.compare() \n",
    "        \n",
    "        print(ae.summarise_cv())\n",
    "        \n",
    "        best_emulator = ae.refit(best_model) \n",
    "        \n",
    "        print(best_emulator.named_steps['model'].get_params())\n",
    "        \n",
    "        # ae.save(best_emulator, os.path.join(path_io, 'Emulators', f'emulator_{N_cases}_dt_{dt}_feat_{col}.pkl'))\n",
    "    \n",
    "    return\n",
    "\n"
   ]
  },
  {
   "cell_type": "code",
   "execution_count": 10,
   "metadata": {},
   "outputs": [
    {
     "name": "stdout",
     "output_type": "stream",
     "text": [
      "\n",
      "\n",
      "\n",
      "Col PC1\n",
      "\n"
     ]
    },
    {
     "data": {
      "text/html": [
       "<p>AutoEmulate is set up with the following settings:</p>"
      ],
      "text/plain": [
       "<IPython.core.display.HTML object>"
      ]
     },
     "metadata": {},
     "output_type": "display_data"
    },
    {
     "data": {
      "text/html": [
       "<table border=\"1\" class=\"dataframe\">\n",
       "  <thead>\n",
       "    <tr style=\"text-align: right;\">\n",
       "      <th></th>\n",
       "      <th>Values</th>\n",
       "    </tr>\n",
       "  </thead>\n",
       "  <tbody>\n",
       "    <tr>\n",
       "      <th>Simulation input shape (X)</th>\n",
       "      <td>(100, 5)</td>\n",
       "    </tr>\n",
       "    <tr>\n",
       "      <th>Simulation output shape (y)</th>\n",
       "      <td>(100,)</td>\n",
       "    </tr>\n",
       "    <tr>\n",
       "      <th>Proportion of data for testing (test_set_size)</th>\n",
       "      <td>0.2</td>\n",
       "    </tr>\n",
       "    <tr>\n",
       "      <th>Scale input data (scale)</th>\n",
       "      <td>RobustScaler()</td>\n",
       "    </tr>\n",
       "    <tr>\n",
       "      <th>Scaler (scaler)</th>\n",
       "      <td>StandardScaler</td>\n",
       "    </tr>\n",
       "    <tr>\n",
       "      <th>Do hyperparameter search (param_search)</th>\n",
       "      <td>True</td>\n",
       "    </tr>\n",
       "    <tr>\n",
       "      <th>Type of hyperparameter search (search_type)</th>\n",
       "      <td>random</td>\n",
       "    </tr>\n",
       "    <tr>\n",
       "      <th>Number of sampled parameter settings (param_search_iters)</th>\n",
       "      <td>20</td>\n",
       "    </tr>\n",
       "    <tr>\n",
       "      <th>Reduce dimensionality (reduce_dim)</th>\n",
       "      <td>False</td>\n",
       "    </tr>\n",
       "    <tr>\n",
       "      <th>Cross validator (cross_validator)</th>\n",
       "      <td>KFold</td>\n",
       "    </tr>\n",
       "    <tr>\n",
       "      <th>Parallel jobs (n_jobs)</th>\n",
       "      <td>1</td>\n",
       "    </tr>\n",
       "  </tbody>\n",
       "</table>"
      ],
      "text/plain": [
       "<IPython.core.display.HTML object>"
      ]
     },
     "metadata": {},
     "output_type": "display_data"
    },
    {
     "data": {
      "application/vnd.jupyter.widget-view+json": {
       "model_id": "b362eb73846e43ec802bf2c9bf4abfec",
       "version_major": 2,
       "version_minor": 0
      },
      "text/plain": [
       "Initializing:   0%|          | 0/2 [00:00<?, ?it/s]"
      ]
     },
     "metadata": {},
     "output_type": "display_data"
    },
    {
     "name": "stdout",
     "output_type": "stream",
     "text": [
      "                   model short      rmse        r2\n",
      "0  SecondOrderPolynomial   sop  0.630045  0.994756\n",
      "1            NeuralNetSk   nns  0.812828  0.990874\n",
      "{'degree': 2}\n"
     ]
    }
   ],
   "source": [
    "main()"
   ]
  }
 ],
 "metadata": {
  "kernelspec": {
   "display_name": "test",
   "language": "python",
   "name": "python3"
  },
  "language_info": {
   "codemirror_mode": {
    "name": "ipython",
    "version": 3
   },
   "file_extension": ".py",
   "mimetype": "text/x-python",
   "name": "python",
   "nbconvert_exporter": "python",
   "pygments_lexer": "ipython3",
   "version": "3.10.16"
  }
 },
 "nbformat": 4,
 "nbformat_minor": 2
}
