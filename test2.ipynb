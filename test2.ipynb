{
 "cells": [
  {
   "cell_type": "code",
   "execution_count": null,
   "metadata": {},
   "outputs": [],
   "source": [
    "from ModularCirc.Models.NaghaviModelRLC import NaghaviModelRLC, NaghaviModelParameters\n",
    "from ModularCirc.Solver import Solver\n",
    "\n",
    "import matplotlib.pyplot as plt\n",
    "import numpy  as np"
   ]
  },
  {
   "cell_type": "markdown",
   "metadata": {},
   "source": [
    "Define the duration of the simulation in terms of the number of cycles, the duration of a time cycle (ms) and the duration of a time step."
   ]
  },
  {
   "cell_type": "code",
   "execution_count": null,
   "metadata": {},
   "outputs": [],
   "source": [
    "TEMPLATE_TIME_SETUP_DICT = {\n",
    "    'name'    :  'TimeTest',\n",
    "    'ncycles' :  40,\n",
    "    'tcycle'  :  800.,\n",
    "    'dt'      :  1.0,\n",
    " }"
   ]
  },
  {
   "cell_type": "markdown",
   "metadata": {},
   "source": [
    "The parameters object used to constrain the model."
   ]
  },
  {
   "cell_type": "code",
   "execution_count": null,
   "metadata": {},
   "outputs": [],
   "source": [
    "parobj = NaghaviModelParameters()\n",
    "parobj.set_chamber_comp('lv', tau=360.)\n",
    "parobj.set_chamber_comp('la', tau=160.)\n",
    "parobj.set_rlc_comp('ao', c=0.025)\n",
    "parobj.set_rlc_comp('ao', l=1e-3)"
   ]
  },
  {
   "cell_type": "markdown",
   "metadata": {},
   "source": [
    "Define an instance of the model using the parameter object."
   ]
  },
  {
   "cell_type": "code",
   "execution_count": null,
   "metadata": {},
   "outputs": [],
   "source": [
    "model = NaghaviModelRLC(TEMPLATE_TIME_SETUP_DICT, parobj=parobj)"
   ]
  },
  {
   "cell_type": "markdown",
   "metadata": {},
   "source": [
    "Define a solver to run the model."
   ]
  },
  {
   "cell_type": "code",
   "execution_count": null,
   "metadata": {},
   "outputs": [],
   "source": [
    "solver = Solver(model=model)\n",
    "solver.setup()"
   ]
  },
  {
   "cell_type": "code",
   "execution_count": null,
   "metadata": {},
   "outputs": [],
   "source": [
    "solver.model.commponents['ao']._Q_o.dudt_name"
   ]
  },
  {
   "cell_type": "code",
   "execution_count": null,
   "metadata": {},
   "outputs": [],
   "source": [
    "solver.solve()"
   ]
  },
  {
   "cell_type": "code",
   "execution_count": null,
   "metadata": {},
   "outputs": [],
   "source": [
    "ind1 = -2*model.time_object.n_c+1\n",
    "ind2 = -1\n",
    "\n",
    "v_lv = solver.model.commponents['lv'].V.values[ind1:ind2]\n",
    "p_lv = solver.model.commponents['lv'].P_i.values[ind1:ind2]\n",
    "\n",
    "v_la = solver.model.commponents['la'].V.values[ind1:ind2]\n",
    "p_la = solver.model.commponents['la'].P_i.values[ind1:ind2]\n",
    "\n",
    "t = model.time_object._sym_t[ind1:ind2].values\n",
    "t -= t[0]\n",
    "\n",
    "q_mv = solver.model.commponents['mv'].Q_i.values[ind1:ind2]\n",
    "q_av = solver.model.commponents['av'].Q_i.values[ind1:ind2]\n",
    "p_ao = solver.model.commponents['ao'].P_i.values[ind1:ind2]\n",
    "q_ao = solver.model.commponents['ao'].Q_o.values[ind1:ind2]\n",
    "\n",
    "af_lv = np.vectorize(model.commponents['lv']._af) \n",
    "af_la = np.vectorize(model.commponents['la']._af) \n",
    "tc = model.time_object._cycle_t[ind1:ind2]"
   ]
  },
  {
   "cell_type": "code",
   "execution_count": null,
   "metadata": {},
   "outputs": [],
   "source": [
    "fig, ax = plt.subplots(ncols=2)\n",
    "ax[0].plot(v_lv, p_lv)\n",
    "ax[0].set_title('PV loops')\n",
    "ax[0].set_ylabel('Pressure')\n",
    "ax[0].set_xlabel('Volume')\n",
    "\n",
    "ax[1].plot(t, q_mv)\n",
    "ax[1].plot(t, q_av)\n",
    "ax[1].set_title('Valve flow')\n",
    "ax[1].set_xlabel('Time (ms)')\n",
    "ax[1].set_ylabel('Flow rate')\n",
    "\n",
    "plt.tight_layout()\n",
    "plt.show()"
   ]
  },
  {
   "cell_type": "code",
   "execution_count": null,
   "metadata": {},
   "outputs": [],
   "source": [
    "fig2, ax2 = plt.subplots(nrows=2, ncols=2, figsize=(10,8))\n",
    "\n",
    "ax2[0][0].plot(t, p_lv, label='lv')\n",
    "ax2[0][0].plot(t, p_ao, label='ao')\n",
    "ax2[0][0].plot(t, p_la, label='la')\n",
    "ax2[0][0].set_title('Pressure')\n",
    "ax2[0][0].set_xlabel('Time (ms)')\n",
    "ax2[0][0].legend()\n",
    "\n",
    "ax2[0][1].plot(t, q_mv, label='mv')\n",
    "ax2[0][1].plot(t, q_ao, label='ao')\n",
    "ax2[0][1].plot(t, q_av, label='av')\n",
    "ax2[0][1].set_title('Q')\n",
    "ax2[0][1].set_xlabel('Time (ms)')\n",
    "ax2[0][1].legend()\n",
    "\n",
    "ax2[1][0].plot(t, af_la(tc), label='la')\n",
    "ax2[1][0].plot(t, af_lv(tc), label='lv')\n",
    "ax2[1][0].set_title('Activation')\n",
    "ax2[1][0].set_xlabel('Time (ms)')\n",
    "ax2[1][0].legend()\n",
    "\n",
    "ax2[1][1].plot(t, v_lv, label='lv')\n",
    "ax2[1][1].plot(t, v_la, label='la')\n",
    "ax2[1][1].set_title('Volume')\n",
    "ax2[1][1].set_xlabel('Time (ms)')\n",
    "ax2[1][1].legend()\n",
    "\n",
    "plt.tight_layout()\n",
    "plt.show()"
   ]
  },
  {
   "cell_type": "code",
   "execution_count": null,
   "metadata": {},
   "outputs": [],
   "source": []
  },
  {
   "cell_type": "code",
   "execution_count": null,
   "metadata": {},
   "outputs": [],
   "source": []
  }
 ],
 "metadata": {
  "kernelspec": {
   "display_name": "mcenv",
   "language": "python",
   "name": "python3"
  },
  "language_info": {
   "codemirror_mode": {
    "name": "ipython",
    "version": 3
   },
   "file_extension": ".py",
   "mimetype": "text/x-python",
   "name": "python",
   "nbconvert_exporter": "python",
   "pygments_lexer": "ipython3",
   "version": "3.10.13"
  }
 },
 "nbformat": 4,
 "nbformat_minor": 2
}
