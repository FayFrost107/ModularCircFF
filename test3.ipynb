{
 "cells": [
  {
   "cell_type": "code",
   "execution_count": null,
   "metadata": {},
   "outputs": [],
   "source": [
    "from ModularCirc.Models.NaghaviModel import NaghaviModel, NaghaviModelParameters\n",
    "from ModularCirc.Solver import Solver\n",
    "from ModularCirc.HelperRoutines import activation_function_1, activation_function_2\n",
    "\n",
    "import ModularCirc.StateVariable as sv\n",
    "import matplotlib.pyplot as plt\n",
    "import numpy  as np"
   ]
  },
  {
   "cell_type": "markdown",
   "metadata": {},
   "source": [
    "Intro\n",
    "-----\n",
    "Notebook for comparing two activation functions."
   ]
  },
  {
   "cell_type": "code",
   "execution_count": null,
   "metadata": {},
   "outputs": [],
   "source": [
    "TEMPLATE_TIME_SETUP_DICT = {\n",
    "    'name'    :  'TimeTest',\n",
    "    'ncycles' :  40,\n",
    "    'tcycle'  :  800.,\n",
    "    'dt'      :  1.0,\n",
    " }"
   ]
  },
  {
   "cell_type": "markdown",
   "metadata": {},
   "source": [
    "The `parobj1` for activation function: `activation_function_1`"
   ]
  },
  {
   "cell_type": "code",
   "execution_count": null,
   "metadata": {},
   "outputs": [],
   "source": [
    "parobj1 = NaghaviModelParameters()\n",
    "parobj1.set_chamber_comp('lv', tau=80.) # 80\n",
    "parobj1.set_chamber_comp('la', tau=80.) # 80\n",
    "parobj1.set_activation_function('lv', activation_func=activation_function_1)\n",
    "parobj1.set_activation_function('la', activation_func=activation_function_1)"
   ]
  },
  {
   "cell_type": "markdown",
   "metadata": {},
   "source": [
    "The `parobj2` for activation function: `activation_function_2`"
   ]
  },
  {
   "cell_type": "code",
   "execution_count": null,
   "metadata": {},
   "outputs": [],
   "source": [
    "parobj2 = NaghaviModelParameters()\n",
    "parobj2.set_chamber_comp('lv', tau=200.) # 100.\n",
    "parobj2.set_chamber_comp('la', tau=200.) # 100.\n",
    "parobj2.set_activation_function('lv', activation_func=activation_function_2)\n",
    "parobj2.set_activation_function('la', activation_func=activation_function_2)\n"
   ]
  },
  {
   "cell_type": "markdown",
   "metadata": {},
   "source": [
    "Case 1: model and solver setup"
   ]
  },
  {
   "cell_type": "code",
   "execution_count": null,
   "metadata": {},
   "outputs": [],
   "source": [
    "model1 = NaghaviModel(TEMPLATE_TIME_SETUP_DICT, parobj=parobj1)\n",
    "solver1 = Solver(model=model1)\n",
    "solver1.setup()\n",
    "solver1.solve()"
   ]
  },
  {
   "cell_type": "markdown",
   "metadata": {},
   "source": [
    "Case 2: model and solver setup"
   ]
  },
  {
   "cell_type": "code",
   "execution_count": null,
   "metadata": {},
   "outputs": [],
   "source": [
    "model2 = NaghaviModel(TEMPLATE_TIME_SETUP_DICT, parobj=parobj2)\n",
    "solver2 = Solver(model=model2)\n",
    "solver2.setup()\n",
    "solver2.solve()"
   ]
  },
  {
   "cell_type": "markdown",
   "metadata": {},
   "source": [
    "Model comparison\n",
    "----"
   ]
  },
  {
   "cell_type": "code",
   "execution_count": null,
   "metadata": {},
   "outputs": [],
   "source": [
    "ind1 = -2*model1.time_object.n_c+1\n",
    "ind2 = -1\n",
    "t    = model1.time_object._sym_t[ind1:ind2].values\n",
    "t   -= t[0]\n",
    "tc   = model1.time_object._cycle_t[ind1:ind2]\n"
   ]
  },
  {
   "cell_type": "markdown",
   "metadata": {},
   "source": [
    "PV loops"
   ]
  },
  {
   "cell_type": "code",
   "execution_count": null,
   "metadata": {},
   "outputs": [],
   "source": [
    "fig, ax = plt.subplots()\n",
    "ax.plot(model1.commponents['lv'].V.values[ind1:ind2], \n",
    "        model1.commponents['lv'].P_i.values[ind1:ind2],\n",
    "        label='M1')\n",
    "ax.plot(model2.commponents['lv'].V.values[ind1:ind2], \n",
    "        model2.commponents['lv'].P_i.values[ind1:ind2],\n",
    "        label='M2')\n",
    "ax.set_title('PV loops')\n",
    "ax.set_ylabel('Pressure')\n",
    "ax.set_xlabel('Volume')\n",
    "ax.legend()\n",
    "plt.show()"
   ]
  },
  {
   "cell_type": "markdown",
   "metadata": {},
   "source": [
    "Activation functions"
   ]
  },
  {
   "cell_type": "code",
   "execution_count": null,
   "metadata": {},
   "outputs": [],
   "source": [
    "af_lv_1 = np.vectorize(model1.commponents['lv']._af) \n",
    "af_la_1 = np.vectorize(model1.commponents['la']._af) \n",
    "\n",
    "af_lv_2 = np.vectorize(model2.commponents['lv']._af) \n",
    "af_la_2 = np.vectorize(model2.commponents['la']._af) \n",
    "\n",
    "fig, ax = plt.subplots()\n",
    "ax.plot(t, af_la_1(tc),  linestyle='-.', color='b', label='M1 LA')\n",
    "ax.plot(t, af_lv_1(tc),  linestyle='-', color='b', label='M1 LV')\n",
    "\n",
    "ax.plot(t, af_la_2(tc),  linestyle='-', color='r', label='M2 LA')\n",
    "ax.plot(t, af_lv_2(tc),  linestyle='-.', color='r', label='M2 LV')\n",
    "\n",
    "ax.set_title('Activation Functions')\n",
    "ax.legend()\n",
    "\n",
    "plt.show()"
   ]
  },
  {
   "cell_type": "markdown",
   "metadata": {},
   "source": [
    "Fluxes"
   ]
  },
  {
   "cell_type": "code",
   "execution_count": null,
   "metadata": {},
   "outputs": [],
   "source": [
    "fig, ax = plt.subplots(nrows=2, ncols=2, figsize=(10,10))\n",
    "\n",
    "ax[0][0].set_title('MV')\n",
    "ax[0][0].plot(t, \n",
    "              model1.commponents['mv'].Q_i.values[ind1:ind2], \n",
    "              label='M1')\n",
    "ax[0][0].plot(t, \n",
    "              model2.commponents['mv'].Q_i.values[ind1:ind2], \n",
    "              label='M2')\n",
    "\n",
    "ax[0][0].legend()\n",
    "\n",
    "ax[0][1].set_title('AV')\n",
    "ax[0][1].plot(t, \n",
    "              model1.commponents['av'].Q_i.values[ind1:ind2], \n",
    "              label='M1')\n",
    "ax[0][1].plot(t, \n",
    "              model2.commponents['av'].Q_i.values[ind1:ind2], \n",
    "              label='M2')\n",
    "\n",
    "ax[1][0].set_title('Ao')\n",
    "ax[1][0].plot(t, \n",
    "              model1.commponents['ao'].Q_o.values[ind1:ind2], \n",
    "              label='M1')\n",
    "ax[1][0].plot(t, \n",
    "              model2.commponents['ao'].Q_o.values[ind1:ind2], \n",
    "              label='M2')\n",
    "\n",
    "\n",
    "plt.show()"
   ]
  },
  {
   "cell_type": "markdown",
   "metadata": {},
   "source": [
    "Pressure"
   ]
  },
  {
   "cell_type": "code",
   "execution_count": null,
   "metadata": {},
   "outputs": [],
   "source": [
    "fig, ax = plt.subplots()\n",
    "ax.plot(t, \n",
    "        model1.commponents['lv'].P_i.values[ind1:ind2],\n",
    "        label='M1 Lv', \n",
    "        color='b',\n",
    "        linestyle='-')\n",
    "ax.plot(t, \n",
    "        model2.commponents['lv'].P_i.values[ind1:ind2],\n",
    "        label='M2 Lv',\n",
    "        color='r',\n",
    "        linestyle='-')\n",
    "\n",
    "ax.plot(t, \n",
    "        model1.commponents['ao'].P_i.values[ind1:ind2],\n",
    "        label='M1 Ao',\n",
    "        color='b',\n",
    "        linestyle='-.')\n",
    "ax.plot(t, \n",
    "        model2.commponents['ao'].P_i.values[ind1:ind2],\n",
    "        label='M2 Ao',\n",
    "        color='r',\n",
    "        linestyle='-.')\n",
    "\n",
    "ax.plot(t, \n",
    "        model1.commponents['la'].P_i.values[ind1:ind2],\n",
    "        label='M1 La',\n",
    "        color='b',\n",
    "        linestyle=':')\n",
    "ax.plot(t, \n",
    "        model2.commponents['la'].P_i.values[ind1:ind2],\n",
    "        label='M2 La',\n",
    "        color='r',\n",
    "        linestyle=':')\n",
    "\n",
    "ax.legend()\n",
    "ax.set_ylabel('Time (ms)')\n",
    "ax.set_title('Pressures')\n",
    "\n",
    "plt.show()"
   ]
  },
  {
   "cell_type": "code",
   "execution_count": null,
   "metadata": {},
   "outputs": [],
   "source": []
  }
 ],
 "metadata": {
  "kernelspec": {
   "display_name": "mcenv",
   "language": "python",
   "name": "python3"
  },
  "language_info": {
   "codemirror_mode": {
    "name": "ipython",
    "version": 3
   },
   "file_extension": ".py",
   "mimetype": "text/x-python",
   "name": "python",
   "nbconvert_exporter": "python",
   "pygments_lexer": "ipython3",
   "version": "3.10.13"
  }
 },
 "nbformat": 4,
 "nbformat_minor": 2
}
