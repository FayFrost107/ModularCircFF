{
 "cells": [
  {
   "cell_type": "code",
   "execution_count": 2,
   "metadata": {},
   "outputs": [],
   "source": [
    "import json\n",
    "import csv"
   ]
  },
  {
   "cell_type": "code",
   "execution_count": 4,
   "metadata": {},
   "outputs": [
    {
     "name": "stdout",
     "output_type": "stream",
     "text": [
      "CSV file created: parameters_ranges.csv\n"
     ]
    }
   ],
   "source": [
    "# Load JSON data from the specified path\n",
    "json_path = '/Users/pmzff/Documents/GitHub/ModularCircFF/ExploreModularCirc/parameters_pulmonary.json'\n",
    "with open(json_path, 'r') as f:\n",
    "    data = json.load(f)\n",
    "\n",
    "# Helper function to flatten and extract parameter ranges\n",
    "def extract_ranges(obj, parent_key=\"\"):\n",
    "    result = []\n",
    "    for k, v in obj.items():\n",
    "        new_key = f\"{parent_key}.{k}\" if parent_key else k\n",
    "        if isinstance(v, dict):\n",
    "            result.extend(extract_ranges(v, new_key))\n",
    "        elif isinstance(v, list):\n",
    "            base_value = v[0]\n",
    "            if len(v) > 1 and isinstance(v[1], list):  # Range present\n",
    "                lower_bound = v[1][0] * base_value\n",
    "                upper_bound = v[1][1] * base_value\n",
    "                result.append((new_key, (lower_bound, upper_bound)))\n",
    "            else:  # No range\n",
    "                result.append((new_key, (base_value, base_value)))\n",
    "    return result\n",
    "\n",
    "# Extract all parameter ranges\n",
    "flattened_data = extract_ranges(data)\n",
    "\n",
    "# Remove top-level prefixes like VESSELS, VALVES, CHAMBERS when present\n",
    "cleaned_data = [(param.split('.', 1)[1] if '.' in param else param, range_val)\n",
    "                for param, range_val in flattened_data]\n",
    "\n",
    "\n",
    "# Write to CSV\n",
    "with open('RH_parameters_ranges.csv', 'w', newline='') as f:\n",
    "    writer = csv.writer(f)\n",
    "    writer.writerow([\"Parameter\", \"Range\"])\n",
    "    for param, (low, high) in cleaned_data:\n",
    "        writer.writerow([param, f\"({low}, {high})\"])\n",
    "\n",
    "print(\"CSV file created: parameters_ranges.csv\")"
   ]
  },
  {
   "cell_type": "code",
   "execution_count": 3,
   "metadata": {},
   "outputs": [
    {
     "name": "stdout",
     "output_type": "stream",
     "text": [
      "Ordered CSV file created at: /Users/pmzff/Documents/GitHub/ModularCircFF/ExploreModularCirc/RH_parameters_ranges_ordered.csv\n"
     ]
    }
   ],
   "source": [
    "# Load JSON data from the specified path\n",
    "json_path = '/Users/pmzff/Documents/GitHub/ModularCircFF/ExploreModularCirc/parameters_pulmonary.json'\n",
    "with open(json_path, 'r') as f:\n",
    "    data = json.load(f)\n",
    "\n",
    "# Helper function to flatten and extract parameter ranges\n",
    "def extract_ranges(obj, parent_key=\"\"):\n",
    "    result = []\n",
    "    for k, v in obj.items():\n",
    "        new_key = f\"{parent_key}.{k}\" if parent_key else k\n",
    "        if isinstance(v, dict):\n",
    "            result.extend(extract_ranges(v, new_key))\n",
    "        elif isinstance(v, list):\n",
    "            base_value = v[0]\n",
    "            if len(v) > 1 and isinstance(v[1], list):  # Range present\n",
    "                lower_bound = v[1][0] * base_value\n",
    "                upper_bound = v[1][1] * base_value\n",
    "                result.append((new_key, (lower_bound, upper_bound)))\n",
    "            else:  # No range\n",
    "                result.append((new_key, (base_value, base_value)))\n",
    "    return result\n",
    "\n",
    "# Extract all parameter ranges\n",
    "flattened_data = extract_ranges(data)\n",
    "\n",
    "# Remove top-level prefixes like VESSELS, VALVES, CHAMBERS when present\n",
    "cleaned_data = [(param.split('.', 1)[1] if '.' in param else param, range_val)\n",
    "                for param, range_val in flattened_data]\n",
    "\n",
    "# Separate non-fixed and fixed parameters\n",
    "non_fixed_params = [(param, range_val) for param, range_val in cleaned_data if range_val[0] != range_val[1]]\n",
    "fixed_params = [(param, range_val) for param, range_val in cleaned_data if range_val[0] == range_val[1]]\n",
    "\n",
    "# Combine with non-fixed listed first\n",
    "ordered_data = non_fixed_params + fixed_params\n",
    "\n",
    "# Write ordered data to CSV\n",
    "output_path = '/Users/pmzff/Documents/GitHub/ModularCircFF/ExploreModularCirc/RH_parameters_ranges_ordered.csv'\n",
    "with open(output_path, 'w', newline='') as f:\n",
    "    writer = csv.writer(f)\n",
    "    writer.writerow([\"Parameter\", \"Range\"])\n",
    "    for param, (low, high) in ordered_data:\n",
    "        writer.writerow([param, f\"({low}, {high})\"])\n",
    "\n",
    "print(f\"Ordered CSV file created at: {output_path}\")"
   ]
  }
 ],
 "metadata": {
  "kernelspec": {
   "display_name": "ModularCirc",
   "language": "python",
   "name": "python3"
  },
  "language_info": {
   "codemirror_mode": {
    "name": "ipython",
    "version": 3
   },
   "file_extension": ".py",
   "mimetype": "text/x-python",
   "name": "python",
   "nbconvert_exporter": "python",
   "pygments_lexer": "ipython3",
   "version": "3.12.7"
  }
 },
 "nbformat": 4,
 "nbformat_minor": 2
}
