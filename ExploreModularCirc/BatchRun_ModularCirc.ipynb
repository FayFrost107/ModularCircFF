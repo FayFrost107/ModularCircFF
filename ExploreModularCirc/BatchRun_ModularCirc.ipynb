{
 "cells": [
  {
   "cell_type": "markdown",
   "metadata": {},
   "source": [
    "### Batch Runner of ModularCirc\n",
    "\n",
    "This file samples the input parameters of the Korakianitis model then batch solves this using ModularCirc. The raw output, pressure traces, cardiac output are all saved. Additionally a PCA is run on the pressure traces and are also saved."
   ]
  },
  {
   "cell_type": "code",
   "execution_count": 1,
   "metadata": {},
   "outputs": [],
   "source": [
    "from ModularCirc.Models.KorakianitisMixedModel import KorakianitisMixedModel, KorakianitisMixedModel_parameters, TEMPLATE_TIME_SETUP_DICT\n",
    "import numpy as np\n",
    "import pandas as pd\n",
    "import os\n",
    "import matplotlib.pyplot as plt"
   ]
  },
  {
   "cell_type": "code",
   "execution_count": 2,
   "metadata": {},
   "outputs": [],
   "source": [
    "from ModularCirc import BatchRunner"
   ]
  },
  {
   "cell_type": "code",
   "execution_count": 3,
   "metadata": {},
   "outputs": [],
   "source": [
    "br = BatchRunner('Sobol', 0) \n",
    "#'LHS' : LatinHypercube,\n",
    "#'Sobol' : Sobol,\n",
    "#'Halton': Halton,"
   ]
  },
  {
   "cell_type": "code",
   "execution_count": null,
   "metadata": {},
   "outputs": [],
   "source": [
    "path = os.getcwd()\n",
    "path"
   ]
  },
  {
   "cell_type": "code",
   "execution_count": 5,
   "metadata": {},
   "outputs": [],
   "source": [
    "# Parameters_01 = Korakianitis Model\n",
    "br.setup_sampler('parameters_pulmonary.json')"
   ]
  },
  {
   "cell_type": "code",
   "execution_count": null,
   "metadata": {},
   "outputs": [],
   "source": [
    "# Set number of samples \n",
    "n_sample = 2000\n",
    "br.sample(n_sample)"
   ]
  },
  {
   "cell_type": "code",
   "execution_count": null,
   "metadata": {},
   "outputs": [],
   "source": [
    "br.samples"
   ]
  },
  {
   "cell_type": "code",
   "execution_count": null,
   "metadata": {},
   "outputs": [],
   "source": [
    "TEMPLATE_TIME_SETUP_DICT"
   ]
  },
  {
   "cell_type": "code",
   "execution_count": 9,
   "metadata": {},
   "outputs": [],
   "source": [
    "map_ = {\n",
    "    'delay' : ['la.delay', 'ra.delay'],\n",
    "    'td0'   : ['lv.td0',   'rv.td0' ],\n",
    "    'tr'    : ['lv.tr',    'rv.tr'  ],\n",
    "    'tpww'  : ['la.tpww',  'ra.tpww'],\n",
    "}\n",
    "br.map_sample_timings(\n",
    "    ref_time=1.,\n",
    "    map=map_\n",
    "    )"
   ]
  },
  {
   "cell_type": "code",
   "execution_count": null,
   "metadata": {},
   "outputs": [],
   "source": [
    "br.samples.columns"
   ]
  },
  {
   "cell_type": "code",
   "execution_count": 11,
   "metadata": {},
   "outputs": [],
   "source": [
    "br._samples[['lv.td', 'rv.td']] = br._samples[['lv.tr', 'rv.tr']].values + br._samples[['lv.td0', 'rv.td0']].values\n",
    "br._samples.drop(['lv.td0', 'rv.td0'], axis=1, inplace=True)"
   ]
  },
  {
   "cell_type": "code",
   "execution_count": null,
   "metadata": {},
   "outputs": [],
   "source": [
    "br.samples"
   ]
  },
  {
   "cell_type": "code",
   "execution_count": null,
   "metadata": {},
   "outputs": [],
   "source": [
    "br.map_vessel_volume()\n"
   ]
  },
  {
   "cell_type": "code",
   "execution_count": null,
   "metadata": {},
   "outputs": [],
   "source": [
    "# Quick stats on some parameters\n",
    "br._samples[['svn.c', 'pat.r', 'pat.c', 'svn.c']].describe().T"
   ]
  },
  {
   "cell_type": "code",
   "execution_count": 16,
   "metadata": {},
   "outputs": [],
   "source": [
    "br.setup_model(model=KorakianitisMixedModel, po=KorakianitisMixedModel_parameters, time_setup=TEMPLATE_TIME_SETUP_DICT)"
   ]
  },
  {
   "cell_type": "code",
   "execution_count": null,
   "metadata": {},
   "outputs": [],
   "source": [
    "input_header = ','.join(br.samples.columns)\n",
    "input_header"
   ]
  },
  {
   "cell_type": "code",
   "execution_count": 18,
   "metadata": {},
   "outputs": [],
   "source": [
    "# Save sampled inputs to CSV\n",
    "os.system(f'mkdir -p {path+'/Input'}')\n",
    "np.savetxt(path+f'/Input/input_{n_sample}.csv', br.samples, header=input_header, delimiter=',')"
   ]
  },
  {
   "cell_type": "code",
   "execution_count": null,
   "metadata": {},
   "outputs": [],
   "source": [
    "n_sample"
   ]
  },
  {
   "cell_type": "code",
   "execution_count": null,
   "metadata": {},
   "outputs": [],
   "source": [
    "os.system(f'mkdir -p {path+'/Outputs/Output_2000/Output_2000_raw'}')\n",
    "test = br.run_batch(n_jobs=5, output_path=path+f'/Outputs/Output_{n_sample}/Output_{n_sample}_raw')"
   ]
  },
  {
   "cell_type": "code",
   "execution_count": null,
   "metadata": {},
   "outputs": [],
   "source": [
    "test"
   ]
  },
  {
   "cell_type": "code",
   "execution_count": null,
   "metadata": {},
   "outputs": [],
   "source": [
    "# Summary stats of output of first realisation\n",
    "ind = 0\n",
    "test[ind].loc[ind].describe()"
   ]
  },
  {
   "cell_type": "markdown",
   "metadata": {},
   "source": [
    "### It looks like there is a bug in the code and some entries of test are boolean - Maybe it did not converge here? "
   ]
  },
  {
   "cell_type": "code",
   "execution_count": null,
   "metadata": {},
   "outputs": [],
   "source": [
    "# Check for bool values in the list\n",
    "bool_indices = [index for index, value in enumerate(test) if isinstance(value, bool)]\n",
    "\n",
    "if bool_indices:\n",
    "    print(f\"Boolean values found at indices: {bool_indices}\")\n",
    "else:\n",
    "    print(\"No boolean values found in the list.\")"
   ]
  },
  {
   "cell_type": "markdown",
   "metadata": {},
   "source": [
    "### From now on I will only use items in test which are not boolean. "
   ]
  },
  {
   "cell_type": "code",
   "execution_count": null,
   "metadata": {},
   "outputs": [],
   "source": [
    "# Initialize the plot\n",
    "fig, ax = plt.subplots()\n",
    "\n",
    "# Loop over all realizations\n",
    "for ind in range(len(test)): \n",
    "    if not isinstance(test[ind], bool):\n",
    "        # Adjust time and pressure trace for each realization\n",
    "        t = test[ind].loc[ind]['T'] - test[ind].loc[ind]['T'].loc[0]  # Time adjustment\n",
    "        p_pat = test[ind].loc[ind]['p_pat']  # Pressure transient\n",
    "\n",
    "        # Plot the pressure transient for each realization\n",
    "        ax.plot(t, p_pat, label=f'Realisation {ind}')\n",
    "\n",
    "# Set labels and title\n",
    "ax.set_xlabel('Time (seconds)')\n",
    "ax.set_ylabel('Pressure (mmHg)')\n",
    "ax.set_title('Pressure Transients in Arterial Tree')\n",
    "\n",
    "# Add legend to the plot\n",
    "# ax.legend()\n",
    "\n",
    "# Display the plot\n",
    "plt.show()"
   ]
  },
  {
   "cell_type": "code",
   "execution_count": null,
   "metadata": {},
   "outputs": [],
   "source": [
    "ind = 0\n",
    "p_pat_raw = test[ind].loc[ind]['p_pat']\n",
    "p_pat_raw\n",
    "\n"
   ]
  },
  {
   "cell_type": "code",
   "execution_count": null,
   "metadata": {},
   "outputs": [],
   "source": [
    "## Create directory for pessure traces \n",
    "os.system(f'mkdir -p {path}/Outputs/Output_2000/pressure_traces')\n"
   ]
  },
  {
   "cell_type": "markdown",
   "metadata": {},
   "source": [
    "## Save individual pressure traces, CO and dt"
   ]
  },
  {
   "cell_type": "code",
   "execution_count": 25,
   "metadata": {},
   "outputs": [],
   "source": [
    "# Create column headers\n",
    "headers = list(range(100)) + ['CO', 'dt', 'EF']\n",
    "\n",
    "# List to collect all pressure traces\n",
    "pressure_traces_list = []\n",
    "\n",
    "for ind in range(len(test)):\n",
    "    if not isinstance(test[ind], bool):\n",
    "     p_pat_raw = test[ind].loc[ind]['p_pat'].values.copy()\n",
    "     T = test[ind].loc[ind]['T'].values.copy()\n",
    "     T_resample = np.linspace(T[0], T[-1], 100)\n",
    "\n",
    "     # Interpolate pressure for 100 timesteps from 1000\n",
    "     p_pat_resampled = np.interp(T_resample, T, p_pat_raw)\n",
    "\n",
    "     q_pat = test[ind].loc[ind]['q_pat'].values.copy()\n",
    "     CO = np.sum(q_pat) * (T[1] - T[0]) / (T[-1] - T[0]) * 60. / 1000.  # L / min\n",
    "     v_rv = test[ind].loc[ind]['v_rv'].values.copy()\n",
    "     EF = (np.max(v_rv) - np.min(v_rv)) / np.max(v_rv)\n",
    "    \n",
    "     # Record time interval, approx T (input param) / 100, there are some rounding differences due to interpolation\n",
    "     tl = T_resample - test[ind].loc[ind]['T'].iloc[0]\n",
    "     dt = np.diff(tl)[0]\n",
    "\n",
    "     # Create a 2D array for saving\n",
    "     pressure_trace = np.hstack((p_pat_resampled, [CO], [dt], [EF]))\n",
    "     pressure_traces_list.append(pressure_trace)\n",
    "\n",
    "     # Save individual pressure trace to CSV with headers\n",
    "     individual_df = pd.DataFrame([pressure_trace], columns=headers)\n",
    "     individual_df.to_csv(f'{path}/Outputs/Output_{n_sample}/pressure_traces/pressuretrace_{ind}.csv', index=False)\n",
    "\n",
    "# Convert the list of pressure traces to a DataFrame\n",
    "pressure_traces_df = pd.DataFrame(pressure_traces_list, columns=headers)\n",
    "\n",
    "# Save the DataFrame to a single CSV file with headers\n",
    "pressure_traces_df.to_csv(f'{path}/Outputs/Output_{n_sample}/pressure_traces/all_pressure_traces.csv', index=False)"
   ]
  },
  {
   "cell_type": "code",
   "execution_count": null,
   "metadata": {},
   "outputs": [],
   "source": [
    "# Initialize the plot\n",
    "fig, ax = plt.subplots()\n",
    "\n",
    "# Loop over all realizations\n",
    "for ind in range(len(test)): \n",
    "    if not isinstance(test[ind], bool):\n",
    "     p_pat_raw = test[ind].loc[ind]['p_pat'].values.copy()\n",
    "     T = test[ind].loc[ind]['T'] - test[ind].loc[ind]['T'].loc[0]  # Time adjustment\n",
    "     T = T.values.copy()\n",
    "     T_resample = np.linspace(T[0], T[-1], 100)\n",
    "    \n",
    "\n",
    "     # Interpolate pressure for 100 timesteps from 1000\n",
    "     p_pat_resampled = np.interp(T_resample, T, p_pat_raw)\n",
    "\n",
    "     # Plot the interpolated pressure transient for each realization\n",
    "     ax.plot(list(range(100)), p_pat_resampled, label=f'Realisation {ind}')\n",
    "\n",
    "# Set labels and title\n",
    "ax.set_xlabel('Time index')\n",
    "ax.set_ylabel('Pressure (mmHg)')\n",
    "ax.set_title('Pressure Transients in Arterial Tree')\n",
    "\n",
    "# Add legend to the plot\n",
    "#ax.legend()\n",
    "\n",
    "# Display the plot\n",
    "plt.show()"
   ]
  },
  {
   "cell_type": "markdown",
   "metadata": {},
   "source": [
    "### Conducting PCA on Pressure Traces"
   ]
  },
  {
   "cell_type": "code",
   "execution_count": null,
   "metadata": {},
   "outputs": [],
   "source": [
    "path"
   ]
  },
  {
   "cell_type": "code",
   "execution_count": null,
   "metadata": {},
   "outputs": [],
   "source": [
    "# Import Data\n",
    "\n",
    "# Define the path to the folder containing the CSV files\n",
    "folder_path = f'{path}/Outputs/Output_{n_sample}/pressure_traces'\n",
    "\n",
    "df = pd.read_csv(f'{folder_path}/all_pressure_traces.csv')\n",
    "\n",
    "# Print the DataFrame\n",
    "print(df)"
   ]
  },
  {
   "cell_type": "code",
   "execution_count": null,
   "metadata": {},
   "outputs": [],
   "source": [
    "import sklearn\n",
    "from sklearn.decomposition import PCA\n",
    "from sklearn.preprocessing import StandardScaler\n",
    "from sklearn.model_selection import KFold\n",
    "\n",
    "# Copy the data and separate the target variable (only pressure traces)\n",
    "#X = df # traces + CO + dt\n",
    "X = df.iloc[:,:101].copy() # traces + CO\n",
    "#X = df.iloc[:,:100].copy() # traces only\n",
    "\n",
    "# Create an instance of StandardScaler\n",
    "scaler = StandardScaler()\n",
    "\n",
    "# Fit the scaler to the data and transform it - standardize\n",
    "X_scaled = scaler.fit_transform(X)\n",
    "\n",
    "pca = PCA(n_components=10)\n",
    "X_pca = pca.fit_transform(X_scaled)\n",
    "\n",
    "# Convert to dataframe\n",
    "component_names = [f\"PC{i+1}\" for i in range(X_pca.shape[1])]\n",
    "X_pca = pd.DataFrame(X_pca, columns=component_names, index=df.index)\n",
    "\n",
    "X_pca.head()\n",
    "\n"
   ]
  },
  {
   "cell_type": "code",
   "execution_count": null,
   "metadata": {},
   "outputs": [],
   "source": [
    "# Plot Histograms\n",
    "X_pca.hist(bins=30, figsize=(15, 13), layout=(5, 2), alpha=0.7, color='orange')\n",
    "plt.suptitle('Histograms of the First 10 Principal Components')\n",
    "plt.show()"
   ]
  },
  {
   "cell_type": "code",
   "execution_count": 44,
   "metadata": {},
   "outputs": [],
   "source": [
    "def plot_variance(pca, width=8, dpi=100):\n",
    "    # Create figure\n",
    "    fig, axs = plt.subplots(1, 2)\n",
    "    n = pca.n_components_\n",
    "    grid = np.arange(1, n + 1)\n",
    "    # Explained variance\n",
    "    explained_variance_ratio = pca.explained_variance_ratio_\n",
    "    axs[0].bar(grid, explained_variance_ratio, log=True)\n",
    "    axs[0].set(\n",
    "        xlabel=\"Component\", title=\"% Explained Variance\", ylim=(0.0, 1.0)\n",
    "    )\n",
    "\n",
    "    # Cumulative Variance\n",
    "    cumulative_explained_variance = np.cumsum(explained_variance_ratio)\n",
    "    axs[1].semilogy(grid, cumulative_explained_variance, \"o-\")\n",
    "    axs[1].set(\n",
    "        xlabel=\"Component\", title=\"% Cumulative Variance\", \n",
    "    )\n",
    "    # Set up figure\n",
    "    fig.set(figwidth=8, dpi=100)\n",
    "    fig.tight_layout()\n",
    "    return axs"
   ]
  },
  {
   "cell_type": "code",
   "execution_count": null,
   "metadata": {},
   "outputs": [],
   "source": [
    "plot_variance(pca)"
   ]
  },
  {
   "cell_type": "code",
   "execution_count": null,
   "metadata": {},
   "outputs": [],
   "source": [
    "path"
   ]
  },
  {
   "cell_type": "code",
   "execution_count": 47,
   "metadata": {},
   "outputs": [],
   "source": [
    "os.system(f'mkdir -p {path}/Outputs/Output_{n_sample}/PCA')\n",
    "\n",
    "# Save first 3 Principle Component data\n",
    "for i in list(range(3)):\n",
    "\n",
    " PC = X_pca.iloc[:,i]\n",
    " PC.to_csv(f'{path}/Outputs/Output_{n_sample}/PCA/CO_PC{i+1}.csv', index=False)\n",
    "\n",
    "\n",
    "\n",
    "\n"
   ]
  },
  {
   "cell_type": "markdown",
   "metadata": {},
   "source": [
    "### Re-import all data to write as single xlsx file"
   ]
  },
  {
   "cell_type": "code",
   "execution_count": 60,
   "metadata": {},
   "outputs": [],
   "source": [
    "dataframes = {}\n",
    "\n",
    "# Read PCA data\n",
    "for i in range(3):\n",
    "    df_name = f'y_PC{i+1}'  # Create the dataframe name\n",
    "    dataframes[df_name] = pd.read_csv(f'{path}/Outputs/Output_{n_sample}/PCA/PC{i+1}.csv')  # Read and store the dataframe\n",
    "    dataframes[f'all_{df_name}'] =  pd.read_csv(f'{path}/Outputs/Output_{n_sample}/PCA/all_PC{i+1}.csv') \n",
    "    dataframes[f'CO_{df_name}'] =  pd.read_csv(f'{path}/Outputs/Output_{n_sample}/PCA/CO_PC{i+1}.csv') \n",
    "\n",
    "y_PC1 = dataframes['y_PC1']\n",
    "y_PC2 = dataframes['y_PC2']\n",
    "y_PC3 = dataframes['y_PC3']\n",
    "\n",
    "all_y_PC1 = dataframes['all_y_PC1']\n",
    "all_y_PC2 = dataframes['all_y_PC2']\n",
    "all_y_PC3 = dataframes['all_y_PC3']\n",
    "\n",
    "CO_y_PC1 = dataframes['CO_y_PC1']\n",
    "CO_y_PC2 = dataframes['CO_y_PC2']\n",
    "CO_y_PC3 = dataframes['CO_y_PC3']\n",
    "\n",
    "df_pressure = pd.read_csv(f'{path}/Outputs/Output_{n_sample}/pressure_traces/all_pressure_traces.csv')\n",
    "cardiac_output = df_pressure.iloc[:,100:101]\n",
    "ejection_frac = df_pressure.iloc[:,102:103]\n",
    "\n",
    "mean_press = df_pressure.iloc[:,:100].mean(axis=1).to_frame(name='mean_press')\n",
    "max_press = df_pressure.iloc[:,:100].max(axis=1).to_frame(name='max_press')\n",
    "min_press = df_pressure.iloc[:,:100].min(axis=1).to_frame(name='min_press')\n"
   ]
  },
  {
   "cell_type": "markdown",
   "metadata": {},
   "source": [
    "### Write all data to s single combined excel file\n"
   ]
  },
  {
   "cell_type": "code",
   "execution_count": null,
   "metadata": {},
   "outputs": [],
   "source": [
    "import pandas as pd\n",
    "from pandas import ExcelWriter\n",
    "\n",
    "# Define output file path\n",
    "output_file = f'{path}/Outputs/Output_{n_sample}/combined_all_outputdata_{n_sample}.xlsx'\n",
    "\n",
    "# Use ExcelWriter to write all dataframes into separate sheets\n",
    "with pd.ExcelWriter(output_file, engine='xlsxwriter') as writer:\n",
    "    # Write PCA data\n",
    "    for i in range(3):\n",
    "        dataframes[f'y_PC{i+1}'].to_excel(writer, sheet_name=f'y_PC{i+1}', index=False)\n",
    "        dataframes[f'all_y_PC{i+1}'].to_excel(writer, sheet_name=f'all_y_PC{i+1}', index=False)\n",
    "        dataframes[f'CO_y_PC{i+1}'].to_excel(writer, sheet_name=f'CO_y_PC{i+1}', index=False)\n",
    "    \n",
    "    # Write pressure and cardiac output data\n",
    "    df_pressure.to_excel(writer, sheet_name='all_pressure_traces', index=False)\n",
    "    cardiac_output.to_excel(writer, sheet_name='cardiac_output', index=False)\n",
    "    mean_press.to_excel(writer, sheet_name='mean_pressure', index=False)\n",
    "    max_press.to_excel(writer, sheet_name='max_pressure', index=False)\n",
    "    min_press.to_excel(writer, sheet_name='min_pressure', index=False)\n",
    "    ejection_frac.to_excel(writer, sheet_name='EF', index=False)\n",
    "\n",
    "print(f\"Combined data saved to {output_file}\")"
   ]
  },
  {
   "cell_type": "code",
   "execution_count": null,
   "metadata": {},
   "outputs": [],
   "source": []
  }
 ],
 "metadata": {
  "kernelspec": {
   "display_name": "ModularCirc",
   "language": "python",
   "name": "python3"
  },
  "language_info": {
   "codemirror_mode": {
    "name": "ipython",
    "version": 3
   },
   "file_extension": ".py",
   "mimetype": "text/x-python",
   "name": "python",
   "nbconvert_exporter": "python",
   "pygments_lexer": "ipython3",
   "version": "3.12.7"
  }
 },
 "nbformat": 4,
 "nbformat_minor": 2
}
