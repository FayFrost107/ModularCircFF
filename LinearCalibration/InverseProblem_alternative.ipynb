{
 "cells": [
  {
   "cell_type": "markdown",
   "metadata": {},
   "source": [
    "We know\n",
    "$$y_{obs}= \\beta X + c + \\epsilon$$\n",
    "\n",
    "In 1 Dimension, \n",
    "$$ y = \n",
    "\\begin{bmatrix}\n",
    "\\beta_0 & \\beta_1 & \\dots & \\beta_p\n",
    "\\end{bmatrix}\n",
    "* \\begin{bmatrix}\n",
    "1 & 1 & \\dots 1 \\\\\n",
    "x_{11} & x_{12} & \\dots & x_{1n} \\\\\n",
    "x_{21} & x_{22} & \\dots & x_{2n} \\\\\n",
    "x_{31} & x_{32} & \\dots & x_{3n} \\\\\n",
    "\\vdots  \\\\\n",
    "x_{p1} & x_{p2} & \\dots & x_{pn} \n",
    "\\end{bmatrix}$$\n"
   ]
  }
 ],
 "metadata": {
  "language_info": {
   "name": "python"
  }
 },
 "nbformat": 4,
 "nbformat_minor": 2
}
