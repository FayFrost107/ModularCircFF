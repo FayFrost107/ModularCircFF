{
 "cells": [
  {
   "cell_type": "code",
   "execution_count": null,
   "metadata": {},
   "outputs": [],
   "source": [
    "import pandas as pd\n",
    "import numpy as np\n",
    "import os\n",
    "import GPy\n",
    "import contextlib\n",
    "from sklearn.linear_model import LinearRegression\n",
    "from sklearn.metrics import r2_score\n",
    "from sklearn.model_selection import train_test_split"
   ]
  },
  {
   "cell_type": "code",
   "execution_count": null,
   "metadata": {},
   "outputs": [],
   "source": [
    "folder_path = '/Users/pmzff/Documents/GitHub/ModularCircFF/Emulation'"
   ]
  },
  {
   "cell_type": "code",
   "execution_count": null,
   "metadata": {},
   "outputs": [],
   "source": [
    "# Read Input Data\n",
    "df_x = pd.read_csv(f'{folder_path}/Input/input_100.csv')\n",
    "\n",
    "# Select varying inputs only\n",
    "#columns_with_multiple_values = df_x.nunique() > 1\n",
    "#filtered_input = df_x.loc[:, columns_with_multiple_values]\n",
    "\n",
    "# Select only first 5 inputs \n",
    "filtered_input = df_x.iloc[:,:5]\n",
    "\n",
    "dataframes = {}\n",
    "\n",
    "# Read PCA data\n",
    "for i in range(3):\n",
    "    df_name = f'y_PC{i+1}'  # Create the dataframe name\n",
    "    dataframes[df_name] = pd.read_csv(f'{folder_path}/Outputs/Out_fixed/PCA/PC{i+1}.csv')  # Read and store the dataframe\n",
    "    dataframes[f'all_{df_name}'] =  pd.read_csv(f'{folder_path}/Outputs/Out_fixed/PCA/all_PC{i+1}.csv') \n",
    "    dataframes[f'CO_{df_name}'] =  pd.read_csv(f'{folder_path}/Outputs/Out_fixed/PCA/CO_PC{i+1}.csv') \n",
    "\n",
    "y_PC1 = dataframes['y_PC1']\n",
    "y_PC2 = dataframes['y_PC2']\n",
    "y_PC3 = dataframes['y_PC3']\n",
    "\n",
    "all_y_PC1 = dataframes['all_y_PC1']\n",
    "all_y_PC2 = dataframes['all_y_PC2']\n",
    "all_y_PC3 = dataframes['all_y_PC3']\n",
    "\n",
    "CO_y_PC1 = dataframes['CO_y_PC1']\n",
    "CO_y_PC2 = dataframes['CO_y_PC2']\n",
    "CO_y_PC3 = dataframes['CO_y_PC3']\n",
    "\n",
    "df_pressure = pd.read_csv(f'{folder_path}/Outputs/Out_fixed/pressure_traces_r_pat/all_pressure_traces.csv')\n",
    "cardiac_output = df_pressure.iloc[:,100:101]\n",
    "\n",
    "mean_press = df_pressure.iloc[:,:100].mean(axis=1).to_frame(name='mean_press')\n",
    "max_press = df_pressure.iloc[:,:100].max(axis=1).to_frame(name='max_press')\n",
    "min_press = df_pressure.iloc[:,:100].min(axis=1).to_frame(name='min_press')"
   ]
  },
  {
   "cell_type": "markdown",
   "metadata": {},
   "source": [
    "### Fit the linear regression model to the data"
   ]
  },
  {
   "cell_type": "code",
   "execution_count": null,
   "metadata": {},
   "outputs": [],
   "source": [
    "import numpy as np\n",
    "from sklearn.linear_model import LinearRegression\n",
    "from sklearn.metrics import r2_score\n",
    "\n",
    "# Example input and output data\n",
    "X = filtered_input.copy()\n",
    "Y = all_y_PC1.copy()\n",
    "\n",
    "# Initialize the model\n",
    "model = LinearRegression()\n",
    "\n",
    "#for i in list(range(100)):\n",
    "# Split the data into training and testing sets (80% train, 20% test)\n",
    "X_train, X_test, y_train, y_test = train_test_split(X, Y, test_size=0.2, random_state=42)\n",
    "\n"
   ]
  },
  {
   "cell_type": "code",
   "execution_count": null,
   "metadata": {},
   "outputs": [],
   "source": [
    "Y"
   ]
  },
  {
   "cell_type": "code",
   "execution_count": null,
   "metadata": {},
   "outputs": [],
   "source": [
    "# Fit the model to the training data\n",
    "model.fit(X_train, y_train)\n",
    "\n",
    "coeffs = model.coef_[0][None].T\n",
    "intercept = model.intercept_\n",
    "\n",
    "print(f\"Coefficient: {coeffs}\")\n",
    "print(f\"Intercept: {intercept}\")\n",
    "\n",
    "# Scale y_obs by beta_0\n",
    "scale_y_obs = y_test - intercept\n",
    "\n",
    "print(\"beta.shape:\", coeffs.shape)\n",
    "print(f\"y shape: {y_test.shape}\")"
   ]
  },
  {
   "cell_type": "markdown",
   "metadata": {},
   "source": [
    "### $R^2$ of Linear Emulator\n",
    "\n"
   ]
  },
  {
   "cell_type": "code",
   "execution_count": null,
   "metadata": {},
   "outputs": [],
   "source": [
    "# Predict the output for the test data\n",
    "y_pred = model.predict(X_test)\n",
    "\n",
    "# Compute R² score for the predictions versus actual test data\n",
    "r2 = r2_score(y_test, y_pred)\n",
    "\n",
    "# Output predictions and R² score\n",
    "#print(\"Predictions on test set:\", y_pred)\n",
    "print(\"R² score:\", r2)\n",
    "\n"
   ]
  },
  {
   "cell_type": "markdown",
   "metadata": {},
   "source": [
    "### Calculate $x^*$ using $$x^*=(y_{obs}-\\beta_0)(\\beta^T \\beta)^{-1} \\beta^T$$"
   ]
  },
  {
   "cell_type": "code",
   "execution_count": null,
   "metadata": {},
   "outputs": [],
   "source": [
    "prod = np.dot(coeffs.T,coeffs)\n",
    "beta_inv = np.linalg.inv(coeffs.T @ coeffs) @ coeffs.T\n",
    "x_hat = scale_y_obs @ beta_inv\n"
   ]
  },
  {
   "cell_type": "markdown",
   "metadata": {},
   "source": [
    "Remember that the psuedo inverse will only find the minimum norm solution"
   ]
  },
  {
   "cell_type": "markdown",
   "metadata": {},
   "source": [
    "### Print dataframe containing X and $x^*$ (minimum norm solution)"
   ]
  },
  {
   "cell_type": "code",
   "execution_count": null,
   "metadata": {},
   "outputs": [],
   "source": [
    "x_hat_headers = [f'{col}_\\u0302' for col in X_test.columns]\n",
    "x_hat.columns = x_hat_headers\n",
    "\n",
    "\n",
    "df = pd.concat([X_test, x_hat], axis=1)\n",
    "df"
   ]
  },
  {
   "cell_type": "markdown",
   "metadata": {},
   "source": [
    "### Calculate output of emulator using $x^*$"
   ]
  },
  {
   "cell_type": "markdown",
   "metadata": {},
   "source": [
    "$$ y_{obs} = X\\beta + \\beta_0 $$"
   ]
  },
  {
   "cell_type": "code",
   "execution_count": null,
   "metadata": {},
   "outputs": [],
   "source": [
    "y_calibrated = (x_hat @ coeffs) + intercept "
   ]
  },
  {
   "cell_type": "code",
   "execution_count": null,
   "metadata": {},
   "outputs": [],
   "source": [
    "y_compare = pd.concat([y_test, y_calibrated], axis=1)\n",
    "y_compare.columns = (\"y_true\", \"y_calibrated\")\n",
    "y_compare"
   ]
  },
  {
   "cell_type": "markdown",
   "metadata": {},
   "source": [
    "### Mean squared Error"
   ]
  },
  {
   "cell_type": "code",
   "execution_count": null,
   "metadata": {},
   "outputs": [],
   "source": [
    "np.mean((y_compare.loc[:, 'y_calibrated'] - y_compare.loc[:, 'y_true'])**2)"
   ]
  }
 ],
 "metadata": {
  "kernelspec": {
   "display_name": "ModularCirc",
   "language": "python",
   "name": "python3"
  },
  "language_info": {
   "codemirror_mode": {
    "name": "ipython",
    "version": 3
   },
   "file_extension": ".py",
   "mimetype": "text/x-python",
   "name": "python",
   "nbconvert_exporter": "python",
   "pygments_lexer": "ipython3",
   "version": "3.12.7"
  }
 },
 "nbformat": 4,
 "nbformat_minor": 2
}
