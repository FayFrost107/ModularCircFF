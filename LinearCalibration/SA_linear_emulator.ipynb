{
 "cells": [
  {
   "cell_type": "code",
   "execution_count": 14,
   "metadata": {},
   "outputs": [],
   "source": [
    "import pandas as pd\n",
    "import numpy as np\n",
    "import os\n",
    "import matplotlib.pyplot as plt\n",
    "from SALib.sample import saltelli\n",
    "from SALib.analyze import sobol\n"
   ]
  },
  {
   "cell_type": "code",
   "execution_count": 15,
   "metadata": {},
   "outputs": [],
   "source": [
    "multi_linear_emulator = np.load('linear_emulator_five_outputs.npz')\n",
    "beta = multi_linear_emulator['beta']\n",
    "intercept = multi_linear_emulator['intercept']"
   ]
  },
  {
   "cell_type": "markdown",
   "metadata": {},
   "source": [
    "### Conduct sensitivity analysis of linear emulator"
   ]
  },
  {
   "cell_type": "code",
   "execution_count": 16,
   "metadata": {},
   "outputs": [
    {
     "data": {
      "text/html": [
       "<div>\n",
       "<style scoped>\n",
       "    .dataframe tbody tr th:only-of-type {\n",
       "        vertical-align: middle;\n",
       "    }\n",
       "\n",
       "    .dataframe tbody tr th {\n",
       "        vertical-align: top;\n",
       "    }\n",
       "\n",
       "    .dataframe thead th {\n",
       "        text-align: right;\n",
       "    }\n",
       "</style>\n",
       "<table border=\"1\" class=\"dataframe\">\n",
       "  <thead>\n",
       "    <tr style=\"text-align: right;\">\n",
       "      <th></th>\n",
       "      <th># svn.c</th>\n",
       "      <th>pat.r</th>\n",
       "      <th>pat.c</th>\n",
       "      <th>rv.E_act</th>\n",
       "      <th>T</th>\n",
       "    </tr>\n",
       "  </thead>\n",
       "  <tbody>\n",
       "    <tr>\n",
       "      <th>0</th>\n",
       "      <td>27.687002</td>\n",
       "      <td>0.443723</td>\n",
       "      <td>3.278327</td>\n",
       "      <td>1.623082</td>\n",
       "      <td>0.478369</td>\n",
       "    </tr>\n",
       "    <tr>\n",
       "      <th>1</th>\n",
       "      <td>10.935100</td>\n",
       "      <td>0.243385</td>\n",
       "      <td>4.286711</td>\n",
       "      <td>2.717826</td>\n",
       "      <td>0.805784</td>\n",
       "    </tr>\n",
       "    <tr>\n",
       "      <th>2</th>\n",
       "      <td>18.671167</td>\n",
       "      <td>0.356841</td>\n",
       "      <td>2.549143</td>\n",
       "      <td>0.822205</td>\n",
       "      <td>0.950488</td>\n",
       "    </tr>\n",
       "    <tr>\n",
       "      <th>3</th>\n",
       "      <td>24.992088</td>\n",
       "      <td>0.155291</td>\n",
       "      <td>5.101243</td>\n",
       "      <td>3.333386</td>\n",
       "      <td>0.614289</td>\n",
       "    </tr>\n",
       "    <tr>\n",
       "      <th>4</th>\n",
       "      <td>22.700741</td>\n",
       "      <td>0.326891</td>\n",
       "      <td>3.862239</td>\n",
       "      <td>2.779415</td>\n",
       "      <td>0.551895</td>\n",
       "    </tr>\n",
       "    <tr>\n",
       "      <th>...</th>\n",
       "      <td>...</td>\n",
       "      <td>...</td>\n",
       "      <td>...</td>\n",
       "      <td>...</td>\n",
       "      <td>...</td>\n",
       "    </tr>\n",
       "    <tr>\n",
       "      <th>95</th>\n",
       "      <td>27.406567</td>\n",
       "      <td>0.196824</td>\n",
       "      <td>3.333852</td>\n",
       "      <td>1.704984</td>\n",
       "      <td>0.646159</td>\n",
       "    </tr>\n",
       "    <tr>\n",
       "      <th>96</th>\n",
       "      <td>26.960391</td>\n",
       "      <td>0.395660</td>\n",
       "      <td>2.043640</td>\n",
       "      <td>0.645535</td>\n",
       "      <td>0.810764</td>\n",
       "    </tr>\n",
       "    <tr>\n",
       "      <th>97</th>\n",
       "      <td>10.379113</td>\n",
       "      <td>0.271468</td>\n",
       "      <td>5.547834</td>\n",
       "      <td>3.156299</td>\n",
       "      <td>0.473453</td>\n",
       "    </tr>\n",
       "    <tr>\n",
       "      <th>98</th>\n",
       "      <td>17.956148</td>\n",
       "      <td>0.327547</td>\n",
       "      <td>3.782205</td>\n",
       "      <td>1.440794</td>\n",
       "      <td>0.618088</td>\n",
       "    </tr>\n",
       "    <tr>\n",
       "      <th>99</th>\n",
       "      <td>24.427048</td>\n",
       "      <td>0.204566</td>\n",
       "      <td>3.842672</td>\n",
       "      <td>2.535121</td>\n",
       "      <td>0.946616</td>\n",
       "    </tr>\n",
       "  </tbody>\n",
       "</table>\n",
       "<p>100 rows × 5 columns</p>\n",
       "</div>"
      ],
      "text/plain": [
       "      # svn.c     pat.r     pat.c  rv.E_act         T\n",
       "0   27.687002  0.443723  3.278327  1.623082  0.478369\n",
       "1   10.935100  0.243385  4.286711  2.717826  0.805784\n",
       "2   18.671167  0.356841  2.549143  0.822205  0.950488\n",
       "3   24.992088  0.155291  5.101243  3.333386  0.614289\n",
       "4   22.700741  0.326891  3.862239  2.779415  0.551895\n",
       "..        ...       ...       ...       ...       ...\n",
       "95  27.406567  0.196824  3.333852  1.704984  0.646159\n",
       "96  26.960391  0.395660  2.043640  0.645535  0.810764\n",
       "97  10.379113  0.271468  5.547834  3.156299  0.473453\n",
       "98  17.956148  0.327547  3.782205  1.440794  0.618088\n",
       "99  24.427048  0.204566  3.842672  2.535121  0.946616\n",
       "\n",
       "[100 rows x 5 columns]"
      ]
     },
     "execution_count": 16,
     "metadata": {},
     "output_type": "execute_result"
    }
   ],
   "source": [
    "n_runs =  100\n",
    "# Read Input Data\n",
    "df_x = pd.read_csv(f'../Emulation/Input/input_{n_runs}.csv')\n",
    "\n",
    "# Select relevant inputs only\n",
    "relevant_columns = []\n",
    "for col in df_x.columns:\n",
    "    relevant_columns.append(col)\n",
    "    if col == 'T': break\n",
    "\n",
    "#columns_with_multiple_values = df_x.nunique() > 1\n",
    "#filtered_input = df_x.loc[:, columns_with_multiple_values]\n",
    "\n",
    "# Select only first 5 inputs \n",
    "filtered_input = df_x[relevant_columns]\n",
    "\n",
    "filtered_input"
   ]
  },
  {
   "cell_type": "code",
   "execution_count": 17,
   "metadata": {},
   "outputs": [
    {
     "name": "stderr",
     "output_type": "stream",
     "text": [
      "/opt/anaconda3/envs/ModularCirc/lib/python3.12/site-packages/SALib/util/__init__.py:274: FutureWarning: unique with argument that is not not a Series, Index, ExtensionArray, or np.ndarray is deprecated and will raise in a future version.\n",
      "  names = list(pd.unique(groups))\n",
      "/opt/anaconda3/envs/ModularCirc/lib/python3.12/site-packages/SALib/util/__init__.py:274: FutureWarning: unique with argument that is not not a Series, Index, ExtensionArray, or np.ndarray is deprecated and will raise in a future version.\n",
      "  names = list(pd.unique(groups))\n",
      "/opt/anaconda3/envs/ModularCirc/lib/python3.12/site-packages/SALib/util/__init__.py:274: FutureWarning: unique with argument that is not not a Series, Index, ExtensionArray, or np.ndarray is deprecated and will raise in a future version.\n",
      "  names = list(pd.unique(groups))\n",
      "/opt/anaconda3/envs/ModularCirc/lib/python3.12/site-packages/SALib/util/__init__.py:274: FutureWarning: unique with argument that is not not a Series, Index, ExtensionArray, or np.ndarray is deprecated and will raise in a future version.\n",
      "  names = list(pd.unique(groups))\n",
      "/opt/anaconda3/envs/ModularCirc/lib/python3.12/site-packages/SALib/util/__init__.py:274: FutureWarning: unique with argument that is not not a Series, Index, ExtensionArray, or np.ndarray is deprecated and will raise in a future version.\n",
      "  names = list(pd.unique(groups))\n"
     ]
    },
    {
     "data": {
      "text/plain": [
       "Samples:\n",
       "\t5 parameters: ['# svn.c', 'pat.r', 'pat.c', 'rv.E_act', 'T']\n",
       "\t12288 samples\n",
       "Outputs:\n",
       "\t5 outputs: ['PC1', 'PC2', 'PC3', 'CO', 'MaxPress']\n",
       "\t12288 evaluations\n",
       "Analysis:\n",
       "PC1:\n",
       "                ST   ST_conf\n",
       "# svn.c   0.034312  0.002899\n",
       "pat.r     0.893355  0.064328\n",
       "pat.c     0.028358  0.002502\n",
       "rv.E_act  0.009433  0.000759\n",
       "T         0.034313  0.002978:\n",
       "                S1   S1_conf\n",
       "# svn.c   0.034274  0.015426\n",
       "pat.r     0.893337  0.070819\n",
       "pat.c     0.028347  0.016307\n",
       "rv.E_act  0.009431  0.007021\n",
       "T         0.034329  0.015715:\n",
       "                           S2   S2_conf\n",
       "(# svn.c, pat.r)     0.000067  0.029244\n",
       "(# svn.c, pat.c)     0.000043  0.022287\n",
       "(# svn.c, rv.E_act)  0.000035  0.022269\n",
       "(# svn.c, T)         0.000035  0.022498\n",
       "(pat.r, pat.c)       0.000277  0.084331\n",
       "(pat.r, rv.E_act)    0.000275  0.081069\n",
       "(pat.r, T)           0.000003  0.079823\n",
       "(pat.c, rv.E_act)    0.000013  0.020376\n",
       "(pat.c, T)           0.000013  0.021570\n",
       "(rv.E_act, T)        0.000003  0.010417:\n",
       "PC2:\n",
       "                ST   ST_conf\n",
       "# svn.c   0.017497  0.001464\n",
       "pat.r     0.000178  0.000017\n",
       "pat.c     0.622632  0.050147\n",
       "rv.E_act  0.085841  0.007835\n",
       "T         0.273877  0.024402:\n",
       "                S1   S1_conf\n",
       "# svn.c   0.017479  0.011761\n",
       "pat.r     0.000179  0.001089\n",
       "pat.c     0.622593  0.062387\n",
       "rv.E_act  0.085855  0.025880\n",
       "T         0.273877  0.038282:\n",
       "                           S2   S2_conf\n",
       "(# svn.c, pat.r)     0.000009  0.016772\n",
       "(# svn.c, pat.c)     0.000038  0.021048\n",
       "(# svn.c, rv.E_act)  0.000009  0.017349\n",
       "(# svn.c, T)         0.000009  0.018593\n",
       "(pat.r, pat.c)       0.000009  0.001932\n",
       "(pat.r, rv.E_act)    0.000009  0.001783\n",
       "(pat.r, T)          -0.000002  0.001943\n",
       "(pat.c, rv.E_act)    0.000048  0.076960\n",
       "(pat.c, T)           0.000048  0.093647\n",
       "(rv.E_act, T)       -0.000027  0.039117:\n",
       "PC3:\n",
       "                ST   ST_conf\n",
       "# svn.c   0.000032  0.000003\n",
       "pat.r     0.026471  0.002070\n",
       "pat.c     0.207131  0.016850\n",
       "rv.E_act  0.757137  0.056430\n",
       "T         0.009255  0.000723:\n",
       "                S1   S1_conf\n",
       "# svn.c   0.000031  0.000575\n",
       "pat.r     0.026470  0.013791\n",
       "pat.c     0.207130  0.038453\n",
       "rv.E_act  0.757145  0.063005\n",
       "T         0.009253  0.007744:\n",
       "                               S2   S2_conf\n",
       "(# svn.c, pat.r)    -1.005565e-07  0.000791\n",
       "(# svn.c, pat.c)     7.694522e-07  0.000832\n",
       "(# svn.c, rv.E_act)  6.677952e-08  0.001093\n",
       "(# svn.c, T)         6.688885e-08  0.000774\n",
       "(pat.r, pat.c)      -2.338764e-05  0.018768\n",
       "(pat.r, rv.E_act)   -2.275233e-05  0.028193\n",
       "(pat.r, T)           1.594234e-06  0.019240\n",
       "(pat.c, rv.E_act)    1.809873e-06  0.073472\n",
       "(pat.c, T)           1.809873e-06  0.056902\n",
       "(rv.E_act, T)       -1.488006e-05  0.066649:\n",
       "CO:\n",
       "                ST   ST_conf\n",
       "# svn.c   0.202848  0.017977\n",
       "pat.r     0.240949  0.020602\n",
       "pat.c     0.148935  0.012687\n",
       "rv.E_act  0.059387  0.004849\n",
       "T         0.348355  0.032681:\n",
       "                S1   S1_conf\n",
       "# svn.c   0.202856  0.037572\n",
       "pat.r     0.240966  0.040053\n",
       "pat.c     0.148872  0.030998\n",
       "rv.E_act  0.059374  0.019191\n",
       "T         0.348329  0.045830:\n",
       "                           S2   S2_conf\n",
       "(# svn.c, pat.r)    -0.000065  0.065006\n",
       "(# svn.c, pat.c)     0.000023  0.058494\n",
       "(# svn.c, rv.E_act) -0.000025  0.055298\n",
       "(# svn.c, T)        -0.000025  0.061407\n",
       "(pat.r, pat.c)      -0.000443  0.063468\n",
       "(pat.r, rv.E_act)   -0.000442  0.059790\n",
       "(pat.r, T)           0.000009  0.065881\n",
       "(pat.c, rv.E_act)    0.000081  0.042292\n",
       "(pat.c, T)           0.000081  0.051464\n",
       "(rv.E_act, T)        0.000026  0.032525:\n",
       "MaxPress:\n",
       "                ST   ST_conf\n",
       "# svn.c   0.047000  0.003704\n",
       "pat.r     0.751206  0.055636\n",
       "pat.c     0.191990  0.013810\n",
       "rv.E_act  0.009178  0.000786\n",
       "T         0.000667  0.000053:\n",
       "                S1   S1_conf\n",
       "# svn.c   0.046949  0.020139\n",
       "pat.r     0.751170  0.063593\n",
       "pat.c     0.191955  0.035037\n",
       "rv.E_act  0.009178  0.008156\n",
       "T         0.000669  0.002067:\n",
       "                               S2   S2_conf\n",
       "(# svn.c, pat.r)     7.750900e-05  0.036960\n",
       "(# svn.c, pat.c)     6.919258e-05  0.027058\n",
       "(# svn.c, rv.E_act)  4.310363e-05  0.024827\n",
       "(# svn.c, T)         4.310317e-05  0.024907\n",
       "(pat.r, pat.c)       7.384399e-05  0.091616\n",
       "(pat.r, rv.E_act)    7.060317e-05  0.076472\n",
       "(pat.r, T)           3.578624e-05  0.075628\n",
       "(pat.c, rv.E_act)    4.020881e-05  0.054494\n",
       "(pat.c, T)           4.020881e-05  0.054661\n",
       "(rv.E_act, T)        4.382546e-07  0.009828:\n"
      ]
     },
     "execution_count": 17,
     "metadata": {},
     "output_type": "execute_result"
    }
   ],
   "source": [
    "## SaLib user inteerface\n",
    "from SALib import ProblemSpec \n",
    "\n",
    "# Import emulator to np array\n",
    "beta_matrix = np.array(beta)\n",
    "intercept = np.array(intercept)\n",
    "\n",
    "# Ensure intercept has the correct shape\n",
    "intercept = intercept.reshape(-1)  # Flatten to (5,) if it's (5, 1)\n",
    "\n",
    "\n",
    "# Define a `dict` defining the number of inputs, the names of the inputs, and the bounds on each input:\n",
    "problem = ProblemSpec({\n",
    "    'num_vars': len(relevant_columns),\n",
    "    'names': relevant_columns,\n",
    "    'bounds' : filtered_input[relevant_columns].describe().loc[['min', 'max']].T.values,\n",
    "    \"outputs\" : [\"PC1\", \"PC2\", \"PC3\", \"CO\", \"MaxPress\"],\n",
    "})\n",
    "\n",
    "# Samples inputs\n",
    "problem.sample_sobol(1024)\n",
    "X = problem.samples\n",
    "\n",
    "# Dynamically determine the shape of Y based on X and beta_matrix\n",
    "num_samples = X.shape[0]  # Number of rows in X\n",
    "num_outputs = beta_matrix.shape[1]  # Number of columns in beta_matrix\n",
    "\n",
    "\n",
    "# Sample outputs \n",
    "Y = np.zeros((X.shape[0], num_outputs))  # Initialize Y with the right shape\n",
    "\n",
    "# Compute Y\n",
    "for i in range(num_samples):\n",
    "    Y[i, :] = beta_matrix @ X[i, :] + intercept\n",
    "\n",
    "\n",
    "# Set output and run analysis\n",
    "problem.set_results(Y)\n",
    "problem.analyze_sobol()\n"
   ]
  },
  {
   "cell_type": "code",
   "execution_count": 18,
   "metadata": {},
   "outputs": [
    {
     "name": "stderr",
     "output_type": "stream",
     "text": [
      "/opt/anaconda3/envs/ModularCirc/lib/python3.12/site-packages/SALib/util/__init__.py:274: FutureWarning: unique with argument that is not not a Series, Index, ExtensionArray, or np.ndarray is deprecated and will raise in a future version.\n",
      "  names = list(pd.unique(groups))\n",
      "/opt/anaconda3/envs/ModularCirc/lib/python3.12/site-packages/SALib/util/__init__.py:274: FutureWarning: unique with argument that is not not a Series, Index, ExtensionArray, or np.ndarray is deprecated and will raise in a future version.\n",
      "  names = list(pd.unique(groups))\n",
      "/opt/anaconda3/envs/ModularCirc/lib/python3.12/site-packages/SALib/util/__init__.py:274: FutureWarning: unique with argument that is not not a Series, Index, ExtensionArray, or np.ndarray is deprecated and will raise in a future version.\n",
      "  names = list(pd.unique(groups))\n",
      "/opt/anaconda3/envs/ModularCirc/lib/python3.12/site-packages/SALib/util/__init__.py:274: FutureWarning: unique with argument that is not not a Series, Index, ExtensionArray, or np.ndarray is deprecated and will raise in a future version.\n",
      "  names = list(pd.unique(groups))\n",
      "/opt/anaconda3/envs/ModularCirc/lib/python3.12/site-packages/SALib/util/__init__.py:274: FutureWarning: unique with argument that is not not a Series, Index, ExtensionArray, or np.ndarray is deprecated and will raise in a future version.\n",
      "  names = list(pd.unique(groups))\n"
     ]
    },
    {
     "data": {
      "text/plain": [
       "<Axes: title={'center': 'MaxPress'}>"
      ]
     },
     "execution_count": 18,
     "metadata": {},
     "output_type": "execute_result"
    },
    {
     "data": {
      "image/png": "[encoded data removed]",
      "text/plain": [
       "<Figure size 1000x600 with 2 Axes>"
      ]
     },
     "metadata": {},
     "output_type": "display_data"
    },
    {
     "data": {
      "image/png": "[encoded data removed]",
      "text/plain": [
       "<Figure size 1000x600 with 2 Axes>"
      ]
     },
     "metadata": {},
     "output_type": "display_data"
    },
    {
     "data": {
      "image/png": "[encoded data removed]",
      "text/plain": [
       "<Figure size 1000x600 with 2 Axes>"
      ]
     },
     "metadata": {},
     "output_type": "display_data"
    },
    {
     "data": {
      "image/png": "[encoded data removed]",
      "text/plain": [
       "<Figure size 1000x600 with 2 Axes>"
      ]
     },
     "metadata": {},
     "output_type": "display_data"
    },
    {
     "data": {
      "image/png": "[encoded data removed]",
      "text/plain": [
       "<Figure size 1000x600 with 2 Axes>"
      ]
     },
     "metadata": {},
     "output_type": "display_data"
    }
   ],
   "source": [
    "problem.heatmap('PC1')\n",
    "problem.heatmap('PC2')\n",
    "problem.heatmap('PC3')\n",
    "problem.heatmap('CO')\n",
    "problem.heatmap('MaxPress')\n"
   ]
  },
  {
   "cell_type": "code",
   "execution_count": 19,
   "metadata": {},
   "outputs": [
    {
     "data": {
      "text/plain": [
       "(12288, 5)"
      ]
     },
     "execution_count": 19,
     "metadata": {},
     "output_type": "execute_result"
    }
   ],
   "source": [
    "X.shape"
   ]
  },
  {
   "cell_type": "code",
   "execution_count": 20,
   "metadata": {},
   "outputs": [
    {
     "ename": "NameError",
     "evalue": "name 'Y_pca1' is not defined",
     "output_type": "error",
     "traceback": [
      "\u001b[0;31m---------------------------------------------------------------------------\u001b[0m",
      "\u001b[0;31mNameError\u001b[0m                                 Traceback (most recent call last)",
      "Cell \u001b[0;32mIn[20], line 1\u001b[0m\n\u001b[0;32m----> 1\u001b[0m sobol_indices_pca \u001b[38;5;241m=\u001b[39m sobol\u001b[38;5;241m.\u001b[39manalyze(problem, \u001b[43mY_pca1\u001b[49m, calc_second_order\u001b[38;5;241m=\u001b[39m\u001b[38;5;28;01mTrue\u001b[39;00m)\n\u001b[1;32m      3\u001b[0m ST \u001b[38;5;241m=\u001b[39m pd\u001b[38;5;241m.\u001b[39mDataFrame(sobol_indices_pca[\u001b[38;5;124m'\u001b[39m\u001b[38;5;124mST\u001b[39m\u001b[38;5;124m'\u001b[39m], index\u001b[38;5;241m=\u001b[39mrelevant_columns, columns\u001b[38;5;241m=\u001b[39m[\u001b[38;5;124m'\u001b[39m\u001b[38;5;124mST\u001b[39m\u001b[38;5;124m'\u001b[39m])\n\u001b[1;32m      4\u001b[0m ST\u001b[38;5;241m.\u001b[39msort_values(\u001b[38;5;124m'\u001b[39m\u001b[38;5;124mST\u001b[39m\u001b[38;5;124m'\u001b[39m, inplace\u001b[38;5;241m=\u001b[39m\u001b[38;5;28;01mTrue\u001b[39;00m, ascending\u001b[38;5;241m=\u001b[39m\u001b[38;5;28;01mFalse\u001b[39;00m)\n",
      "\u001b[0;31mNameError\u001b[0m: name 'Y_pca1' is not defined"
     ]
    }
   ],
   "source": [
    "sobol_indices_pca = sobol.analyze(problem, Y_pca1, calc_second_order=True)\n",
    "\n",
    "ST = pd.DataFrame(sobol_indices_pca['ST'], index=relevant_columns, columns=['ST'])\n",
    "ST.sort_values('ST', inplace=True, ascending=False)\n",
    "\n",
    "labels = ST.index\n",
    "sizes = ST['ST']\n",
    "\n",
    "plt.figure(figsize=(8, 8))\n",
    "plt.pie(sizes, labels=labels, autopct='%1.1f%%', startangle=180)\n",
    "plt.title('Sensitivity Analysis Results')\n",
    "plt.show()"
   ]
  }
 ],
 "metadata": {
  "kernelspec": {
   "display_name": "ModularCirc",
   "language": "python",
   "name": "python3"
  },
  "language_info": {
   "codemirror_mode": {
    "name": "ipython",
    "version": 3
   },
   "file_extension": ".py",
   "mimetype": "text/x-python",
   "name": "python",
   "nbconvert_exporter": "python",
   "pygments_lexer": "ipython3",
   "version": "3.12.7"
  }
 },
 "nbformat": 4,
 "nbformat_minor": 2
}
