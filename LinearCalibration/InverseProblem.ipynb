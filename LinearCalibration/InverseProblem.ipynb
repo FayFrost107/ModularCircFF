{
 "cells": [
  {
   "cell_type": "code",
   "execution_count": 3,
   "metadata": {},
   "outputs": [
    {
     "data": {
      "image/png": "[encoded data removed]",
      "text/plain": [
       "<Figure size 640x480 with 1 Axes>"
      ]
     },
     "metadata": {},
     "output_type": "display_data"
    },
    {
     "name": "stdout",
     "output_type": "stream",
     "text": [
      "R2: 0.5222440084103068\n",
      "Intercept: 4.206340188711437\n",
      "Coefficient: 2.9902591010048902\n"
     ]
    }
   ],
   "source": [
    "import numpy as np\n",
    "import matplotlib.pyplot as plt\n",
    "from sklearn.model_selection import train_test_split\n",
    "from sklearn.linear_model import LinearRegression\n",
    "from sklearn.metrics import r2_score\n",
    "\n",
    "# Generate synthetic data\n",
    "np.random.seed(0)  # For reproducibility\n",
    "X = 2 * np.random.rand(100, 1)  # 100 data points in range [0, 2)\n",
    "y = 4 + 3 * X + np.random.randn(100, 1)  # y = 4 + 3x + noise\n",
    "\n",
    "# Split the data into training and testing sets\n",
    "X_train, X_test, y_train, y_test = train_test_split(X, y, test_size=0.2, random_state=42)\n",
    "\n",
    "# Create a linear regression model\n",
    "model = LinearRegression()\n",
    "\n",
    "# Train the model\n",
    "model.fit(X_train, y_train)\n",
    "\n",
    "# Make predictions\n",
    "y_pred = model.predict(X_test)\n",
    "r2 = r2_score(y_pred, y_test)\n",
    "\n",
    "\n",
    "# Plot the results\n",
    "plt.scatter(X, y, color='blue', label='Data points')\n",
    "plt.plot(X_test, y_pred, color='red', linewidth=2, label='Regression line')\n",
    "plt.xlabel('X')\n",
    "plt.ylabel('y')\n",
    "plt.legend()\n",
    "plt.show()\n",
    "\n",
    "# Print R2\n",
    "print(f\"R2: {r2}\")\n",
    "\n",
    "# Print the model parameters\n",
    "print(f\"Intercept: {model.intercept_[0]}\")\n",
    "print(f\"Coefficient: {model.coef_[0][0]}\")\n",
    "\n",
    "\n",
    "# Compute the inverse problem (predicting X from y) using matrix operations\n",
    "# Model parameters\n",
    "b0 = model.intercept_[0]\n",
    "b1 = model.coef_[0][0]\n"
   ]
  },
  {
   "cell_type": "markdown",
   "metadata": {},
   "source": [
    "We know\n",
    "$$y_{obs}=x^*\\beta+c+epsilon$$\n",
    "\n",
    "In 1 Dimension, \n",
    "$$ y = \n",
    "\\begin{bmatrix}\n",
    "1 & x_1 \\\\\n",
    "1 & x_2 \\\\\n",
    "1 & x_3 \\\\\n",
    "\\vdots  \\\\\n",
    "1 & x_n \n",
    "\\end{bmatrix}\n",
    " * \\begin{bmatrix}\n",
    "\\beta_0 \\\\\n",
    "\\beta_1\n",
    "\\end{bmatrix}$$\n",
    "\n",
    "So in 1D, $$ x = \\frac{y - \\beta_0}{\\beta_1} $$\n",
    "\n",
    "Suppose $y_{obs} = 8$, then $x^*= \\frac{8 - 4.2}{2.99} = 1.27$. The true values is 1.33.\n",
    "\n",
    "\n"
   ]
  },
  {
   "cell_type": "code",
   "execution_count": 24,
   "metadata": {},
   "outputs": [
    {
     "name": "stdout",
     "output_type": "stream",
     "text": [
      "[[ 1.38494424  8.24238396  8.15483272  1.34973045]\n",
      " [ 0.20408962  4.64409942  4.61226886  0.14639508]\n",
      " [ 1.95291893  9.79051518  9.85875679  1.86745523]\n",
      " [ 1.34127574  7.87419268  8.02382722  1.22660023]\n",
      " [ 1.33353343  7.30603243  8.00060029  1.03659654]\n",
      " [ 1.3636406   9.01312847  8.09092179  1.6074822 ]\n",
      " [ 0.92295872  5.49839118  6.76887617  0.43208663]\n",
      " [ 0.63596636  5.40986663  5.90789908  0.40248233]\n",
      " [ 1.58345008  8.34717328  8.75035023  1.38477401]\n",
      " [ 1.09762701  6.12773118  7.29288102  0.64255   ]\n",
      " [ 1.5563135   8.7958526   8.66894051  1.53482098]\n",
      " [ 0.52911122  7.45489263  5.58733367  1.08637825]\n",
      " [ 1.20969104  6.80263458  7.62907312  0.86825064]\n",
      " [ 1.1368679   9.32066865  7.41060369  1.71032953]\n",
      " [ 0.6371379   6.83227254  5.91141371  0.87816215]\n",
      " [ 0.8473096   8.03018099  6.5419288   1.27876571]\n",
      " [ 0.56561393  6.8234777   5.69684178  0.87522098]\n",
      " [ 0.24039312  3.64124786  4.72117937 -0.18897771]\n",
      " [ 1.13608912  7.61654234  7.40826737  1.14043701]\n",
      " [ 1.54846738  9.55144679  8.64540214  1.78750617]]\n"
     ]
    }
   ],
   "source": [
    "print(np.hstack((X_test, y_test, 4+3*X_test, (y_test-b0)/b1)))"
   ]
  },
  {
   "cell_type": "markdown",
   "metadata": {},
   "source": [
    "### Pseudoinverse Formulas\n"
   ]
  },
  {
   "cell_type": "markdown",
   "metadata": {},
   "source": [
    "\n",
    "1. **Pseudoinverse of a Tall Matrix (Full Column Rank)**\n",
    "\n",
    "   For a matrix $A$ of size $(m,n)$ where $m > n$ and $A$ has full column rank, the pseudoinverse is:\n",
    "   $$A^+ = A^TA^{-1}A^T$$\n",
    "\n",
    "2. **Pseudoinverse of a Wide Matrix (Full Row Rank)**\n",
    "\n",
    "   For a matrix $A$ of size $(m,n)$ where $n > n$ and $A$ has full column rank, the pseudoinverse is:\n",
    "   $$A^+ = A^T(AA^T)^{-1}$$\n",
    "3. **General Formula for the Pseudoinverse (via Singular Value Decomposition)**\n",
    "\n",
    "   For any matrix $A$, the pseudoinverse can be computed using the Singular Value Decomposition (SVD). Let the SVD of $A$ be:\n",
    "   $$A = U \\Sigma V^T$$ \n",
    "   where $U$ and $V$ are orthogonal matrices, and $\\Sigma$ is a diagonal matrix of singular values. Then the pseudoinverse is:\n",
    "   $$A^+ = V \\Sigma^+ U^T$$\n",
    "   where $\\Sigma^+$ is the pseudoinverse of $\\Sigma$, formed by taking the reciprocal of each non-zero singular value and transposing the matrix."
   ]
  },
  {
   "cell_type": "markdown",
   "metadata": {},
   "source": [
    "### 2D derivation"
   ]
  },
  {
   "cell_type": "markdown",
   "metadata": {},
   "source": [
    "In 2-dimensions\n",
    "\n",
    "$$ y = \n",
    "\\begin{bmatrix}\n",
    "1 & x_{11} & x_{21} \\\\\n",
    "1 & x_{12} & x_{22} \\\\\n",
    "1 & x_{13} & x_{23} \\\\\n",
    "\\vdots  \\\\\n",
    "1 & x_{1n} & x_{2n} \n",
    "\\end{bmatrix}\n",
    " * \\begin{bmatrix}\n",
    "\\beta_0 \\\\\n",
    "\\beta_1 \\\\\n",
    "\\beta_2\n",
    "\\end{bmatrix}$$\n",
    "\n",
    "$$y_{obs}-\\beta_0 = \\begin{bmatrix}\n",
    "x_{11} & x_{21} \\\\\n",
    "x_{12} & x_{22} \\\\\n",
    "x_{13} & x_{23} \\\\\n",
    "\\vdots  \\\\\n",
    "x_{1n} & x_{2n} \n",
    "\\end{bmatrix}\n",
    " * \\begin{bmatrix}\n",
    "\\beta_1 \\\\\n",
    "\\beta_2\n",
    "\\end{bmatrix}$$\n",
    "\n",
    "We know $$y_{obs}=x^*\\beta+c+epsilon$$\n",
    "\n",
    "so, as **$\\beta$** is tall we can use the following pseudo-inverse formula \n",
    "\n",
    "$$x^*=(y_{obs}-\\beta_0)(\\beta^T \\beta)^{-1} \\beta^T$$\n",
    "\n",
    "The pseudo inverse for $\\beta$ is given as \n",
    "\n",
    "$$\n",
    "\\beta^+ = \\frac{1}{\\beta_1^2 + \\beta_2^2} \\begin{pmatrix} \\beta_1 & \\beta_2 \\end{pmatrix}\n",
    "$$\n",
    "\n",
    "This is a $(1 , p)$ matrix. Since $(y_{obs}-\\beta_0)$ has shape $(1,n)$ where $n$ is the number of observations then the resulting matrix $(y_{obs}-\\beta_0)(\\beta^T \\beta)^{-1} \\beta^T$ has shape $(n,1) * (1,p) = (n,p)$ which is the correct dimensions of $x$.\n",
    "\n",
    "\n"
   ]
  },
  {
   "cell_type": "markdown",
   "metadata": {},
   "source": [
    "### Pseudoinverse Derivation"
   ]
  },
  {
   "cell_type": "markdown",
   "metadata": {},
   "source": [
    "Let the matrix **$\\beta$**\n",
    "$$\n",
    "\\beta = \\begin{pmatrix}\n",
    "\\beta_1 \\\\\n",
    "\\beta_2\n",
    "\\end{pmatrix}\n",
    "$$\n",
    "\n",
    "The pseudoinverse **$\\beta^+$** is given by:\n",
    "$$\n",
    "\\beta^+ = (\\beta^T\\beta)^{-1} \\beta^T\n",
    "$$\n",
    "\n",
    "#### Step 1: Compute $\\beta^T \\beta$\n",
    "\n",
    "The transpose of $\\beta$ is:\n",
    "$$\n",
    "\\beta^T = \\begin{pmatrix} \\beta_1 & \\beta_2 \\end{pmatrix}\n",
    "$$\n",
    "\n",
    "Now, compute $\\beta^T \\beta$:\n",
    "$$\n",
    "\\beta^T \\beta = \\begin{pmatrix} \\beta_1 & \\beta_2 \\end{pmatrix} \\begin{pmatrix} \\beta_1 \\\\ \\beta_2 \\end{pmatrix} = \\beta_1^2 + \\beta_2^2\n",
    "$$\n",
    "\n",
    "#### Step 2: Compute $(\\beta^T \\beta)^{-1} $\n",
    "\n",
    "The inverse of $\\beta^T \\beta$ is:\n",
    "$$\n",
    "(beta^T \\beta)^{-1} = \\frac{1}{\\beta_1^2 + \\beta_2^2}\n",
    "$$\n",
    "\n",
    "#### Step 3: Compute the Pseudoinverse $\\beta^+$\n",
    "\n",
    "Finally, the pseudoinverse is:\n",
    "$$\n",
    "\\beta^+ = \\frac{1}{\\beta_1^2 + \\beta_2^2} \\begin{pmatrix} \\beta_1 & \\beta_2 \\end{pmatrix}\n",
    "$$\n",
    "\n",
    "\n",
    "\n"
   ]
  },
  {
   "cell_type": "markdown",
   "metadata": {},
   "source": [
    "Thus, the pseudoinverse of $\\beta$ is:\n",
    "$$\n",
    "\\beta^+ = \\frac{1}{\\beta_1^2 + \\beta_2^2} \\begin{pmatrix} \\beta_1 & \\beta_2 \\end{pmatrix}\n",
    "$$"
   ]
  }
 ],
 "metadata": {
  "kernelspec": {
   "display_name": "ModularCirc",
   "language": "python",
   "name": "python3"
  },
  "language_info": {
   "codemirror_mode": {
    "name": "ipython",
    "version": 3
   },
   "file_extension": ".py",
   "mimetype": "text/x-python",
   "name": "python",
   "nbconvert_exporter": "python",
   "pygments_lexer": "ipython3",
   "version": "3.12.7"
  }
 },
 "nbformat": 4,
 "nbformat_minor": 2
}
